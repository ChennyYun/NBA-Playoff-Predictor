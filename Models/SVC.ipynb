{
 "cells": [
  {
   "cell_type": "code",
   "execution_count": 1,
   "id": "df3a1494",
   "metadata": {},
   "outputs": [],
   "source": [
    "import numpy as np\n",
    "import pandas as pd\n",
    "from sklearn.svm import LinearSVC, SVC\n",
    "from sklearn.model_selection import train_test_split, cross_val_score, GridSearchCV, RandomizedSearchCV\n",
    "from sklearn.preprocessing import StandardScaler"
   ]
  },
  {
   "cell_type": "code",
   "execution_count": 2,
   "id": "88d9393e",
   "metadata": {},
   "outputs": [],
   "source": [
    "train_east_df = pd.read_csv('../CSV/NBA-teams-data-east.csv')\n",
    "curr_east_df = pd.read_csv('../CSV/NBA-2022-team-data-east.csv')\n",
    "\n",
    "train_west_df = pd.read_csv('../CSV/NBA-teams-data-west.csv')\n",
    "curr_west_df = pd.read_csv('../CSV/NBA-2022-team-data-west.csv')"
   ]
  },
  {
   "cell_type": "code",
   "execution_count": 3,
   "id": "003ba3db",
   "metadata": {},
   "outputs": [],
   "source": [
    "X_east = train_east_df.drop(['Team','Year','Conf','made_playoff'], axis = 1)\n",
    "y_east = train_east_df['made_playoff']\n",
    "\n",
    "X_west = train_west_df.drop(['Team','Year','Conf','made_playoff'], axis = 1)\n",
    "y_west = train_west_df['made_playoff']"
   ]
  },
  {
   "cell_type": "code",
   "execution_count": 4,
   "id": "575b661d",
   "metadata": {},
   "outputs": [],
   "source": [
    "X_train_east, X_test_east, y_train_east, y_test_east = train_test_split(X_east, y_east, test_size = .30,random_state=42)\n",
    "X_train_west, X_test_west, y_train_west, y_test_west = train_test_split(X_west, y_west,test_size = .30, random_state=42)"
   ]
  },
  {
   "cell_type": "code",
   "execution_count": 5,
   "id": "b21c0c85",
   "metadata": {},
   "outputs": [
    {
     "data": {
      "text/plain": [
       "LinearSVC(C=1, max_iter=10000, random_state=42)"
      ]
     },
     "execution_count": 5,
     "metadata": {},
     "output_type": "execute_result"
    }
   ],
   "source": [
    "LinSVC_east = LinearSVC(max_iter = 10000, random_state = 42, C = 1)\n",
    "LinSVC_east.fit(X_train_east, y_train_east)\n",
    "LinSVC_west = LinearSVC(max_iter = 10000, random_state = 42, C = 1)\n",
    "LinSVC_west.fit(X_train_west,y_train_west)"
   ]
  },
  {
   "cell_type": "code",
   "execution_count": 6,
   "id": "bfa934c9",
   "metadata": {
    "scrolled": true
   },
   "outputs": [
    {
     "name": "stdout",
     "output_type": "stream",
     "text": [
      "LinSVC East\n",
      "Training Data Score: 0.9445843828715366\n",
      "Testing Data Score: 0.9181286549707602\n",
      "LinSVC West\n",
      "Training Data Score: 0.9318181818181818\n",
      "Testing Data Score: 0.9176470588235294\n"
     ]
    }
   ],
   "source": [
    "print(\"LinSVC East\")\n",
    "print(f\"Training Data Score: {LinSVC_east.score(X_train_east, y_train_east)}\")\n",
    "print(f\"Testing Data Score: {LinSVC_east.score(X_test_east, y_test_east)}\")\n",
    "\n",
    "print(\"LinSVC West\")\n",
    "print(f\"Training Data Score: {LinSVC_west.score(X_train_west, y_train_west)}\")\n",
    "print(f\"Testing Data Score: {LinSVC_west.score(X_test_west, y_test_west)}\")"
   ]
  },
  {
   "cell_type": "code",
   "execution_count": 7,
   "id": "e5f7d9c1",
   "metadata": {
    "scrolled": true
   },
   "outputs": [
    {
     "data": {
      "text/html": [
       "<div>\n",
       "<style scoped>\n",
       "    .dataframe tbody tr th:only-of-type {\n",
       "        vertical-align: middle;\n",
       "    }\n",
       "\n",
       "    .dataframe tbody tr th {\n",
       "        vertical-align: top;\n",
       "    }\n",
       "\n",
       "    .dataframe thead th {\n",
       "        text-align: right;\n",
       "    }\n",
       "</style>\n",
       "<table border=\"1\" class=\"dataframe\">\n",
       "  <thead>\n",
       "    <tr style=\"text-align: right;\">\n",
       "      <th></th>\n",
       "      <th>Feature</th>\n",
       "      <th>Correlation</th>\n",
       "    </tr>\n",
       "  </thead>\n",
       "  <tbody>\n",
       "    <tr>\n",
       "      <th>20</th>\n",
       "      <td>top_PTS</td>\n",
       "      <td>2.468343</td>\n",
       "    </tr>\n",
       "    <tr>\n",
       "      <th>4</th>\n",
       "      <td>3P%</td>\n",
       "      <td>0.990451</td>\n",
       "    </tr>\n",
       "    <tr>\n",
       "      <th>0</th>\n",
       "      <td>FGA</td>\n",
       "      <td>0.913893</td>\n",
       "    </tr>\n",
       "    <tr>\n",
       "      <th>9</th>\n",
       "      <td>FTA</td>\n",
       "      <td>0.605837</td>\n",
       "    </tr>\n",
       "    <tr>\n",
       "      <th>14</th>\n",
       "      <td>STL</td>\n",
       "      <td>0.131236</td>\n",
       "    </tr>\n",
       "    <tr>\n",
       "      <th>12</th>\n",
       "      <td>DRB</td>\n",
       "      <td>0.122146</td>\n",
       "    </tr>\n",
       "    <tr>\n",
       "      <th>18</th>\n",
       "      <td>PTS</td>\n",
       "      <td>0.067584</td>\n",
       "    </tr>\n",
       "    <tr>\n",
       "      <th>21</th>\n",
       "      <td>top_5_PTS</td>\n",
       "      <td>0.060264</td>\n",
       "    </tr>\n",
       "    <tr>\n",
       "      <th>25</th>\n",
       "      <td>top_5_stats_sum</td>\n",
       "      <td>0.058070</td>\n",
       "    </tr>\n",
       "    <tr>\n",
       "      <th>16</th>\n",
       "      <td>TOV</td>\n",
       "      <td>0.055294</td>\n",
       "    </tr>\n",
       "    <tr>\n",
       "      <th>11</th>\n",
       "      <td>ORB</td>\n",
       "      <td>0.022035</td>\n",
       "    </tr>\n",
       "    <tr>\n",
       "      <th>5</th>\n",
       "      <td>2P</td>\n",
       "      <td>0.010950</td>\n",
       "    </tr>\n",
       "    <tr>\n",
       "      <th>13</th>\n",
       "      <td>AST</td>\n",
       "      <td>-0.005322</td>\n",
       "    </tr>\n",
       "    <tr>\n",
       "      <th>22</th>\n",
       "      <td>top_5_AST</td>\n",
       "      <td>-0.023159</td>\n",
       "    </tr>\n",
       "    <tr>\n",
       "      <th>26</th>\n",
       "      <td>Team</td>\n",
       "      <td>-0.023159</td>\n",
       "    </tr>\n",
       "    <tr>\n",
       "      <th>17</th>\n",
       "      <td>PF</td>\n",
       "      <td>-0.026625</td>\n",
       "    </tr>\n",
       "    <tr>\n",
       "      <th>23</th>\n",
       "      <td>top_5_DRB</td>\n",
       "      <td>-0.051837</td>\n",
       "    </tr>\n",
       "    <tr>\n",
       "      <th>6</th>\n",
       "      <td>2PA</td>\n",
       "      <td>-0.052862</td>\n",
       "    </tr>\n",
       "    <tr>\n",
       "      <th>8</th>\n",
       "      <td>FT</td>\n",
       "      <td>-0.057284</td>\n",
       "    </tr>\n",
       "    <tr>\n",
       "      <th>24</th>\n",
       "      <td>top_5_ORB</td>\n",
       "      <td>-0.093568</td>\n",
       "    </tr>\n",
       "    <tr>\n",
       "      <th>2</th>\n",
       "      <td>3P</td>\n",
       "      <td>-0.156297</td>\n",
       "    </tr>\n",
       "    <tr>\n",
       "      <th>1</th>\n",
       "      <td>FG%</td>\n",
       "      <td>-0.167772</td>\n",
       "    </tr>\n",
       "    <tr>\n",
       "      <th>15</th>\n",
       "      <td>BLK</td>\n",
       "      <td>-0.170235</td>\n",
       "    </tr>\n",
       "    <tr>\n",
       "      <th>7</th>\n",
       "      <td>2P%</td>\n",
       "      <td>-0.301842</td>\n",
       "    </tr>\n",
       "    <tr>\n",
       "      <th>10</th>\n",
       "      <td>FT%</td>\n",
       "      <td>-0.342359</td>\n",
       "    </tr>\n",
       "    <tr>\n",
       "      <th>19</th>\n",
       "      <td>W%</td>\n",
       "      <td>-0.717572</td>\n",
       "    </tr>\n",
       "    <tr>\n",
       "      <th>3</th>\n",
       "      <td>3PA</td>\n",
       "      <td>-1.036708</td>\n",
       "    </tr>\n",
       "    <tr>\n",
       "      <th>27</th>\n",
       "      <td>Year</td>\n",
       "      <td>NaN</td>\n",
       "    </tr>\n",
       "    <tr>\n",
       "      <th>28</th>\n",
       "      <td>Conf</td>\n",
       "      <td>NaN</td>\n",
       "    </tr>\n",
       "    <tr>\n",
       "      <th>29</th>\n",
       "      <td>made_playoff</td>\n",
       "      <td>NaN</td>\n",
       "    </tr>\n",
       "  </tbody>\n",
       "</table>\n",
       "</div>"
      ],
      "text/plain": [
       "            Feature  Correlation\n",
       "20          top_PTS     2.468343\n",
       "4               3P%     0.990451\n",
       "0               FGA     0.913893\n",
       "9               FTA     0.605837\n",
       "14              STL     0.131236\n",
       "12              DRB     0.122146\n",
       "18              PTS     0.067584\n",
       "21        top_5_PTS     0.060264\n",
       "25  top_5_stats_sum     0.058070\n",
       "16              TOV     0.055294\n",
       "11              ORB     0.022035\n",
       "5                2P     0.010950\n",
       "13              AST    -0.005322\n",
       "22        top_5_AST    -0.023159\n",
       "26             Team    -0.023159\n",
       "17               PF    -0.026625\n",
       "23        top_5_DRB    -0.051837\n",
       "6               2PA    -0.052862\n",
       "8                FT    -0.057284\n",
       "24        top_5_ORB    -0.093568\n",
       "2                3P    -0.156297\n",
       "1               FG%    -0.167772\n",
       "15              BLK    -0.170235\n",
       "7               2P%    -0.301842\n",
       "10              FT%    -0.342359\n",
       "19               W%    -0.717572\n",
       "3               3PA    -1.036708\n",
       "27             Year          NaN\n",
       "28             Conf          NaN\n",
       "29     made_playoff          NaN"
      ]
     },
     "execution_count": 7,
     "metadata": {},
     "output_type": "execute_result"
    }
   ],
   "source": [
    "coeff_df = pd.DataFrame(train_east_df.columns.delete(0))\n",
    "coeff_df.columns = ['Feature']\n",
    "coeff_df[\"Correlation\"] = pd.Series(LinSVC_east.coef_[0])\n",
    "\n",
    "coeff_df.sort_values(by='Correlation', ascending=False)"
   ]
  },
  {
   "cell_type": "code",
   "execution_count": 8,
   "id": "abdec7fc",
   "metadata": {
    "scrolled": true
   },
   "outputs": [
    {
     "data": {
      "text/html": [
       "<div>\n",
       "<style scoped>\n",
       "    .dataframe tbody tr th:only-of-type {\n",
       "        vertical-align: middle;\n",
       "    }\n",
       "\n",
       "    .dataframe tbody tr th {\n",
       "        vertical-align: top;\n",
       "    }\n",
       "\n",
       "    .dataframe thead th {\n",
       "        text-align: right;\n",
       "    }\n",
       "</style>\n",
       "<table border=\"1\" class=\"dataframe\">\n",
       "  <thead>\n",
       "    <tr style=\"text-align: right;\">\n",
       "      <th></th>\n",
       "      <th>Feature</th>\n",
       "      <th>Correlation</th>\n",
       "    </tr>\n",
       "  </thead>\n",
       "  <tbody>\n",
       "    <tr>\n",
       "      <th>20</th>\n",
       "      <td>top_PTS</td>\n",
       "      <td>1.723019</td>\n",
       "    </tr>\n",
       "    <tr>\n",
       "      <th>19</th>\n",
       "      <td>W%</td>\n",
       "      <td>0.536536</td>\n",
       "    </tr>\n",
       "    <tr>\n",
       "      <th>6</th>\n",
       "      <td>2PA</td>\n",
       "      <td>0.516352</td>\n",
       "    </tr>\n",
       "    <tr>\n",
       "      <th>3</th>\n",
       "      <td>3PA</td>\n",
       "      <td>0.505658</td>\n",
       "    </tr>\n",
       "    <tr>\n",
       "      <th>10</th>\n",
       "      <td>FT%</td>\n",
       "      <td>0.449534</td>\n",
       "    </tr>\n",
       "    <tr>\n",
       "      <th>8</th>\n",
       "      <td>FT</td>\n",
       "      <td>0.176705</td>\n",
       "    </tr>\n",
       "    <tr>\n",
       "      <th>25</th>\n",
       "      <td>top_5_stats_sum</td>\n",
       "      <td>0.167630</td>\n",
       "    </tr>\n",
       "    <tr>\n",
       "      <th>11</th>\n",
       "      <td>ORB</td>\n",
       "      <td>0.153284</td>\n",
       "    </tr>\n",
       "    <tr>\n",
       "      <th>14</th>\n",
       "      <td>STL</td>\n",
       "      <td>0.146034</td>\n",
       "    </tr>\n",
       "    <tr>\n",
       "      <th>15</th>\n",
       "      <td>BLK</td>\n",
       "      <td>0.090565</td>\n",
       "    </tr>\n",
       "    <tr>\n",
       "      <th>18</th>\n",
       "      <td>PTS</td>\n",
       "      <td>0.073314</td>\n",
       "    </tr>\n",
       "    <tr>\n",
       "      <th>21</th>\n",
       "      <td>top_5_PTS</td>\n",
       "      <td>0.072361</td>\n",
       "    </tr>\n",
       "    <tr>\n",
       "      <th>16</th>\n",
       "      <td>TOV</td>\n",
       "      <td>0.059494</td>\n",
       "    </tr>\n",
       "    <tr>\n",
       "      <th>24</th>\n",
       "      <td>top_5_ORB</td>\n",
       "      <td>-0.013855</td>\n",
       "    </tr>\n",
       "    <tr>\n",
       "      <th>13</th>\n",
       "      <td>AST</td>\n",
       "      <td>-0.019750</td>\n",
       "    </tr>\n",
       "    <tr>\n",
       "      <th>23</th>\n",
       "      <td>top_5_DRB</td>\n",
       "      <td>-0.034523</td>\n",
       "    </tr>\n",
       "    <tr>\n",
       "      <th>7</th>\n",
       "      <td>2P%</td>\n",
       "      <td>-0.054368</td>\n",
       "    </tr>\n",
       "    <tr>\n",
       "      <th>17</th>\n",
       "      <td>PF</td>\n",
       "      <td>-0.072535</td>\n",
       "    </tr>\n",
       "    <tr>\n",
       "      <th>22</th>\n",
       "      <td>top_5_AST</td>\n",
       "      <td>-0.104618</td>\n",
       "    </tr>\n",
       "    <tr>\n",
       "      <th>26</th>\n",
       "      <td>Team</td>\n",
       "      <td>-0.104618</td>\n",
       "    </tr>\n",
       "    <tr>\n",
       "      <th>5</th>\n",
       "      <td>2P</td>\n",
       "      <td>-0.151309</td>\n",
       "    </tr>\n",
       "    <tr>\n",
       "      <th>12</th>\n",
       "      <td>DRB</td>\n",
       "      <td>-0.209011</td>\n",
       "    </tr>\n",
       "    <tr>\n",
       "      <th>0</th>\n",
       "      <td>FGA</td>\n",
       "      <td>-0.243876</td>\n",
       "    </tr>\n",
       "    <tr>\n",
       "      <th>1</th>\n",
       "      <td>FG%</td>\n",
       "      <td>-0.438274</td>\n",
       "    </tr>\n",
       "    <tr>\n",
       "      <th>4</th>\n",
       "      <td>3P%</td>\n",
       "      <td>-0.440574</td>\n",
       "    </tr>\n",
       "    <tr>\n",
       "      <th>9</th>\n",
       "      <td>FTA</td>\n",
       "      <td>-0.606362</td>\n",
       "    </tr>\n",
       "    <tr>\n",
       "      <th>2</th>\n",
       "      <td>3P</td>\n",
       "      <td>-0.753808</td>\n",
       "    </tr>\n",
       "    <tr>\n",
       "      <th>27</th>\n",
       "      <td>Year</td>\n",
       "      <td>NaN</td>\n",
       "    </tr>\n",
       "    <tr>\n",
       "      <th>28</th>\n",
       "      <td>Conf</td>\n",
       "      <td>NaN</td>\n",
       "    </tr>\n",
       "    <tr>\n",
       "      <th>29</th>\n",
       "      <td>made_playoff</td>\n",
       "      <td>NaN</td>\n",
       "    </tr>\n",
       "  </tbody>\n",
       "</table>\n",
       "</div>"
      ],
      "text/plain": [
       "            Feature  Correlation\n",
       "20          top_PTS     1.723019\n",
       "19               W%     0.536536\n",
       "6               2PA     0.516352\n",
       "3               3PA     0.505658\n",
       "10              FT%     0.449534\n",
       "8                FT     0.176705\n",
       "25  top_5_stats_sum     0.167630\n",
       "11              ORB     0.153284\n",
       "14              STL     0.146034\n",
       "15              BLK     0.090565\n",
       "18              PTS     0.073314\n",
       "21        top_5_PTS     0.072361\n",
       "16              TOV     0.059494\n",
       "24        top_5_ORB    -0.013855\n",
       "13              AST    -0.019750\n",
       "23        top_5_DRB    -0.034523\n",
       "7               2P%    -0.054368\n",
       "17               PF    -0.072535\n",
       "22        top_5_AST    -0.104618\n",
       "26             Team    -0.104618\n",
       "5                2P    -0.151309\n",
       "12              DRB    -0.209011\n",
       "0               FGA    -0.243876\n",
       "1               FG%    -0.438274\n",
       "4               3P%    -0.440574\n",
       "9               FTA    -0.606362\n",
       "2                3P    -0.753808\n",
       "27             Year          NaN\n",
       "28             Conf          NaN\n",
       "29     made_playoff          NaN"
      ]
     },
     "execution_count": 8,
     "metadata": {},
     "output_type": "execute_result"
    }
   ],
   "source": [
    "coeff_df = pd.DataFrame(train_west_df.columns.delete(0))\n",
    "coeff_df.columns = ['Feature']\n",
    "coeff_df[\"Correlation\"] = pd.Series(LinSVC_west.coef_[0])\n",
    "coeff_df.sort_values(by='Correlation', ascending=False)"
   ]
  },
  {
   "cell_type": "code",
   "execution_count": 9,
   "id": "fc732b0b",
   "metadata": {
    "scrolled": true
   },
   "outputs": [
    {
     "data": {
      "text/plain": [
       "['FGA',\n",
       " 'FG%',\n",
       " '3P',\n",
       " '3PA',\n",
       " '3P%',\n",
       " '2P',\n",
       " '2PA',\n",
       " '2P%',\n",
       " 'FT',\n",
       " 'FTA',\n",
       " 'FT%',\n",
       " 'ORB',\n",
       " 'DRB',\n",
       " 'AST',\n",
       " 'STL',\n",
       " 'BLK',\n",
       " 'TOV',\n",
       " 'PF',\n",
       " 'PTS',\n",
       " 'W%',\n",
       " 'top_PTS',\n",
       " 'top_5_PTS',\n",
       " 'top_5_AST',\n",
       " 'top_5_DRB',\n",
       " 'top_5_ORB',\n",
       " 'top_5_stats_sum',\n",
       " 'Team',\n",
       " 'Year',\n",
       " 'Conf',\n",
       " 'made_playoff']"
      ]
     },
     "execution_count": 9,
     "metadata": {},
     "output_type": "execute_result"
    }
   ],
   "source": [
    "coeff_df['Feature'].tolist()"
   ]
  },
  {
   "cell_type": "raw",
   "id": "76c2439f",
   "metadata": {},
   "source": [
    "removing columns with low coefficients"
   ]
  },
  {
   "cell_type": "code",
   "execution_count": 10,
   "id": "5295fc75",
   "metadata": {},
   "outputs": [],
   "source": [
    "drop_cols_east = ['DRB','top_5_PTS','top_5_stats_sum','TOV','ORB','2P','AST','Team','PF','top_5_DRB'\n",
    "            ,'2PA','FT','top_5_ORB','3P','FG%','BLK','2P%','FT%','Year','Conf','made_playoff']\n",
    "drop_cols_west = ['FT','top_5_stats_sum','ORB','STL','BLK','PTS','top_5_PTS','TOV',\n",
    "                  'top_5_ORB','AST','top_5_DRB','2P%','PF','top_5_AST','Team','2P','DRB','FGA','FG%',\n",
    "                  '3P%','FTA','3P','Year','Conf','made_playoff']"
   ]
  },
  {
   "cell_type": "code",
   "execution_count": 11,
   "id": "ee732af3",
   "metadata": {},
   "outputs": [],
   "source": [
    "X_east = train_east_df.drop(drop_cols_east, axis = 1)\n",
    "y_east = train_east_df['made_playoff']\n",
    "\n",
    "X_west = train_west_df.drop(drop_cols_west, axis = 1)\n",
    "y_west = train_west_df['made_playoff']"
   ]
  },
  {
   "cell_type": "code",
   "execution_count": 12,
   "id": "5e022896",
   "metadata": {},
   "outputs": [],
   "source": [
    "X_train_east, X_test_east, y_train_east, y_test_east = train_test_split(X_east, y_east, test_size = .30,random_state=42)\n",
    "X_train_west, X_test_west, y_train_west, y_test_west = train_test_split(X_west, y_west,test_size = .30, random_state=42)"
   ]
  },
  {
   "cell_type": "code",
   "execution_count": 13,
   "id": "be7352d8",
   "metadata": {},
   "outputs": [
    {
     "data": {
      "text/plain": [
       "LinearSVC(C=1, max_iter=10000, random_state=42)"
      ]
     },
     "execution_count": 13,
     "metadata": {},
     "output_type": "execute_result"
    }
   ],
   "source": [
    "LinSVC_east = LinearSVC(max_iter = 10000, random_state = 42, C = 1)\n",
    "LinSVC_east.fit(X_train_east, y_train_east)\n",
    "LinSVC_west = LinearSVC(max_iter = 10000, random_state = 42, C = 1)\n",
    "LinSVC_west.fit(X_train_west,y_train_west)"
   ]
  },
  {
   "cell_type": "code",
   "execution_count": 14,
   "id": "56334045",
   "metadata": {
    "scrolled": false
   },
   "outputs": [
    {
     "name": "stdout",
     "output_type": "stream",
     "text": [
      "LinSVC East\n",
      "Training Data Score: 0.9395465994962217\n",
      "Testing Data Score: 0.9298245614035088\n",
      "LinSVC West\n",
      "Training Data Score: 0.9141414141414141\n",
      "Testing Data Score: 0.9058823529411765\n"
     ]
    }
   ],
   "source": [
    "print(\"LinSVC East\")\n",
    "print(f\"Training Data Score: {LinSVC_east.score(X_train_east, y_train_east)}\")\n",
    "print(f\"Testing Data Score: {LinSVC_east.score(X_test_east, y_test_east)}\")\n",
    "\n",
    "print(\"LinSVC West\")\n",
    "print(f\"Training Data Score: {LinSVC_west.score(X_train_west, y_train_west)}\")\n",
    "print(f\"Testing Data Score: {LinSVC_west.score(X_test_west, y_test_west)}\")"
   ]
  },
  {
   "cell_type": "code",
   "execution_count": 15,
   "id": "a340c6c6",
   "metadata": {},
   "outputs": [],
   "source": [
    "teams_east = curr_east_df['Team']\n",
    "teams_west = curr_west_df['Team']\n",
    "curr_east_df = curr_east_df.drop(drop_cols_east, axis = 1)\n",
    "curr_west_df = curr_west_df.drop(drop_cols_west, axis = 1)"
   ]
  },
  {
   "cell_type": "code",
   "execution_count": 16,
   "id": "d8b1eab6",
   "metadata": {},
   "outputs": [],
   "source": [
    "scaler = StandardScaler() \n",
    "curr_east_df = pd.DataFrame(scaler.fit_transform(curr_east_df), columns = curr_east_df.columns)"
   ]
  },
  {
   "cell_type": "code",
   "execution_count": 17,
   "id": "bf3fc844",
   "metadata": {
    "scrolled": false
   },
   "outputs": [
    {
     "name": "stdout",
     "output_type": "stream",
     "text": [
      "                   Team  predictions\n",
      "0         Chicago Bulls            1\n",
      "3    Washington Wizards            1\n",
      "5    Philadelphia 76ers            1\n",
      "6       New York Knicks            1\n",
      "8        Boston Celtics            1\n",
      "9            Miami Heat            1\n",
      "11        Brooklyn Nets            1\n",
      "12        Atlanta Hawks            1\n",
      "13      Milwaukee Bucks            1\n",
      "14    Charlotte Hornets            1\n",
      "1         Orlando Magic            0\n",
      "2   Cleveland Cavaliers            0\n",
      "4       Toronto Raptors            0\n",
      "7        Indiana Pacers            0\n",
      "10      Detroit Pistons            0\n"
     ]
    }
   ],
   "source": [
    "predictions_east = LinSVC_east.predict(curr_east_df)\n",
    "results_east = pd.DataFrame()\n",
    "results_east['Team'] = teams_east\n",
    "results_east['predictions'] = predictions_east\n",
    "print(results_east.sort_values('predictions', ascending = False))"
   ]
  },
  {
   "cell_type": "code",
   "execution_count": 18,
   "id": "635708d9",
   "metadata": {
    "scrolled": false
   },
   "outputs": [
    {
     "name": "stdout",
     "output_type": "stream",
     "text": [
      "                      Team  predictions\n",
      "1                Utah Jazz            1\n",
      "4           Denver Nuggets            1\n",
      "5             Phoenix Suns            1\n",
      "6         Dallas Mavericks            1\n",
      "7     Los Angeles Clippers            1\n",
      "8        Memphis Grizzlies            1\n",
      "12      Los Angeles Lakers            1\n",
      "13  Portland Trail Blazers            1\n",
      "14   Golden State Warriors            1\n",
      "0         Sacramento Kings            0\n",
      "2          Houston Rockets            0\n",
      "3     New Orleans Pelicans            0\n",
      "9        San Antonio Spurs            0\n",
      "10  Minnesota Timberwolves            0\n",
      "11   Oklahoma City Thunder            0\n"
     ]
    }
   ],
   "source": [
    "predictions_west = LinSVC_west.predict(curr_west_df)\n",
    "results_west = pd.DataFrame()\n",
    "results_west['Team'] = teams_west\n",
    "results_west['predictions'] = predictions_west\n",
    "print(results_west.sort_values('predictions', ascending = False))"
   ]
  },
  {
   "cell_type": "raw",
   "id": "2d5a633a",
   "metadata": {},
   "source": [
    "SVC with rbf kernel"
   ]
  },
  {
   "cell_type": "code",
   "execution_count": 19,
   "id": "2f070c4b",
   "metadata": {},
   "outputs": [
    {
     "data": {
      "text/plain": [
       "SVC()"
      ]
     },
     "execution_count": 19,
     "metadata": {},
     "output_type": "execute_result"
    }
   ],
   "source": [
    "rbf_SVC_east = SVC(gamma = 'scale')\n",
    "rbf_SVC_east.fit(X_train_east,y_train_east)\n",
    "rbf_SVC_west = SVC(gamma = 'scale')\n",
    "rbf_SVC_west.fit(X_train_west,y_train_west)"
   ]
  },
  {
   "cell_type": "code",
   "execution_count": 20,
   "id": "156ef2dd",
   "metadata": {},
   "outputs": [
    {
     "name": "stdout",
     "output_type": "stream",
     "text": [
      "rbf_SVC East\n",
      "Training Data Score: 0.9596977329974811\n",
      "Testing Data Score: 0.8888888888888888\n",
      "rbf_SVC West\n",
      "Training Data Score: 0.9368686868686869\n",
      "Testing Data Score: 0.9235294117647059\n"
     ]
    }
   ],
   "source": [
    "print(\"rbf_SVC East\")\n",
    "print(f\"Training Data Score: {rbf_SVC_east.score(X_train_east, y_train_east)}\")\n",
    "print(f\"Testing Data Score: {rbf_SVC_east.score(X_test_east, y_test_east)}\")\n",
    "\n",
    "print(\"rbf_SVC West\")\n",
    "print(f\"Training Data Score: {rbf_SVC_west.score(X_train_west, y_train_west)}\")\n",
    "print(f\"Testing Data Score: {rbf_SVC_west.score(X_test_west, y_test_west)}\")"
   ]
  },
  {
   "cell_type": "raw",
   "id": "2d19c6d4",
   "metadata": {},
   "source": [
    "Hypertuning SVC with rbf kernel"
   ]
  },
  {
   "cell_type": "code",
   "execution_count": 21,
   "id": "cba9df2a",
   "metadata": {},
   "outputs": [
    {
     "name": "stdout",
     "output_type": "stream",
     "text": [
      "Fitting 5 folds for each of 25 candidates, totalling 125 fits\n",
      "[CV 1/5] END ...C=0.1, gamma=1, kernel=rbf, probability=True; total time=   0.0s\n",
      "[CV 2/5] END ...C=0.1, gamma=1, kernel=rbf, probability=True; total time=   0.0s\n",
      "[CV 3/5] END ...C=0.1, gamma=1, kernel=rbf, probability=True; total time=   0.0s\n",
      "[CV 4/5] END ...C=0.1, gamma=1, kernel=rbf, probability=True; total time=   0.0s\n",
      "[CV 5/5] END ...C=0.1, gamma=1, kernel=rbf, probability=True; total time=   0.0s\n",
      "[CV 1/5] END .C=0.1, gamma=0.1, kernel=rbf, probability=True; total time=   0.0s\n",
      "[CV 2/5] END .C=0.1, gamma=0.1, kernel=rbf, probability=True; total time=   0.0s\n",
      "[CV 3/5] END .C=0.1, gamma=0.1, kernel=rbf, probability=True; total time=   0.0s\n",
      "[CV 4/5] END .C=0.1, gamma=0.1, kernel=rbf, probability=True; total time=   0.0s\n",
      "[CV 5/5] END .C=0.1, gamma=0.1, kernel=rbf, probability=True; total time=   0.0s\n",
      "[CV 1/5] END C=0.1, gamma=0.01, kernel=rbf, probability=True; total time=   0.0s\n",
      "[CV 2/5] END C=0.1, gamma=0.01, kernel=rbf, probability=True; total time=   0.0s\n",
      "[CV 3/5] END C=0.1, gamma=0.01, kernel=rbf, probability=True; total time=   0.0s\n",
      "[CV 4/5] END C=0.1, gamma=0.01, kernel=rbf, probability=True; total time=   0.0s\n",
      "[CV 5/5] END C=0.1, gamma=0.01, kernel=rbf, probability=True; total time=   0.0s\n",
      "[CV 1/5] END C=0.1, gamma=0.001, kernel=rbf, probability=True; total time=   0.0s\n",
      "[CV 2/5] END C=0.1, gamma=0.001, kernel=rbf, probability=True; total time=   0.0s\n",
      "[CV 3/5] END C=0.1, gamma=0.001, kernel=rbf, probability=True; total time=   0.0s\n",
      "[CV 4/5] END C=0.1, gamma=0.001, kernel=rbf, probability=True; total time=   0.0s\n",
      "[CV 5/5] END C=0.1, gamma=0.001, kernel=rbf, probability=True; total time=   0.0s\n",
      "[CV 1/5] END C=0.1, gamma=0.0001, kernel=rbf, probability=True; total time=   0.0s\n",
      "[CV 2/5] END C=0.1, gamma=0.0001, kernel=rbf, probability=True; total time=   0.0s\n",
      "[CV 3/5] END C=0.1, gamma=0.0001, kernel=rbf, probability=True; total time=   0.0s\n",
      "[CV 4/5] END C=0.1, gamma=0.0001, kernel=rbf, probability=True; total time=   0.0s\n",
      "[CV 5/5] END C=0.1, gamma=0.0001, kernel=rbf, probability=True; total time=   0.0s\n",
      "[CV 1/5] END .....C=1, gamma=1, kernel=rbf, probability=True; total time=   0.0s\n",
      "[CV 2/5] END .....C=1, gamma=1, kernel=rbf, probability=True; total time=   0.0s\n",
      "[CV 3/5] END .....C=1, gamma=1, kernel=rbf, probability=True; total time=   0.0s\n",
      "[CV 4/5] END .....C=1, gamma=1, kernel=rbf, probability=True; total time=   0.0s\n",
      "[CV 5/5] END .....C=1, gamma=1, kernel=rbf, probability=True; total time=   0.0s\n",
      "[CV 1/5] END ...C=1, gamma=0.1, kernel=rbf, probability=True; total time=   0.0s\n",
      "[CV 2/5] END ...C=1, gamma=0.1, kernel=rbf, probability=True; total time=   0.0s\n",
      "[CV 3/5] END ...C=1, gamma=0.1, kernel=rbf, probability=True; total time=   0.0s\n",
      "[CV 4/5] END ...C=1, gamma=0.1, kernel=rbf, probability=True; total time=   0.0s\n",
      "[CV 5/5] END ...C=1, gamma=0.1, kernel=rbf, probability=True; total time=   0.0s\n",
      "[CV 1/5] END ..C=1, gamma=0.01, kernel=rbf, probability=True; total time=   0.0s\n",
      "[CV 2/5] END ..C=1, gamma=0.01, kernel=rbf, probability=True; total time=   0.0s\n",
      "[CV 3/5] END ..C=1, gamma=0.01, kernel=rbf, probability=True; total time=   0.0s\n",
      "[CV 4/5] END ..C=1, gamma=0.01, kernel=rbf, probability=True; total time=   0.0s\n",
      "[CV 5/5] END ..C=1, gamma=0.01, kernel=rbf, probability=True; total time=   0.0s\n",
      "[CV 1/5] END .C=1, gamma=0.001, kernel=rbf, probability=True; total time=   0.0s\n",
      "[CV 2/5] END .C=1, gamma=0.001, kernel=rbf, probability=True; total time=   0.0s\n",
      "[CV 3/5] END .C=1, gamma=0.001, kernel=rbf, probability=True; total time=   0.0s\n",
      "[CV 4/5] END .C=1, gamma=0.001, kernel=rbf, probability=True; total time=   0.0s\n",
      "[CV 5/5] END .C=1, gamma=0.001, kernel=rbf, probability=True; total time=   0.0s\n",
      "[CV 1/5] END C=1, gamma=0.0001, kernel=rbf, probability=True; total time=   0.0s\n",
      "[CV 2/5] END C=1, gamma=0.0001, kernel=rbf, probability=True; total time=   0.0s\n",
      "[CV 3/5] END C=1, gamma=0.0001, kernel=rbf, probability=True; total time=   0.0s\n",
      "[CV 4/5] END C=1, gamma=0.0001, kernel=rbf, probability=True; total time=   0.0s\n",
      "[CV 5/5] END C=1, gamma=0.0001, kernel=rbf, probability=True; total time=   0.0s\n",
      "[CV 1/5] END ....C=10, gamma=1, kernel=rbf, probability=True; total time=   0.0s\n",
      "[CV 2/5] END ....C=10, gamma=1, kernel=rbf, probability=True; total time=   0.0s\n",
      "[CV 3/5] END ....C=10, gamma=1, kernel=rbf, probability=True; total time=   0.0s\n",
      "[CV 4/5] END ....C=10, gamma=1, kernel=rbf, probability=True; total time=   0.0s\n",
      "[CV 5/5] END ....C=10, gamma=1, kernel=rbf, probability=True; total time=   0.0s\n",
      "[CV 1/5] END ..C=10, gamma=0.1, kernel=rbf, probability=True; total time=   0.0s\n",
      "[CV 2/5] END ..C=10, gamma=0.1, kernel=rbf, probability=True; total time=   0.0s\n",
      "[CV 3/5] END ..C=10, gamma=0.1, kernel=rbf, probability=True; total time=   0.0s\n",
      "[CV 4/5] END ..C=10, gamma=0.1, kernel=rbf, probability=True; total time=   0.0s\n",
      "[CV 5/5] END ..C=10, gamma=0.1, kernel=rbf, probability=True; total time=   0.0s\n",
      "[CV 1/5] END .C=10, gamma=0.01, kernel=rbf, probability=True; total time=   0.0s\n",
      "[CV 2/5] END .C=10, gamma=0.01, kernel=rbf, probability=True; total time=   0.0s\n",
      "[CV 3/5] END .C=10, gamma=0.01, kernel=rbf, probability=True; total time=   0.0s\n",
      "[CV 4/5] END .C=10, gamma=0.01, kernel=rbf, probability=True; total time=   0.0s\n",
      "[CV 5/5] END .C=10, gamma=0.01, kernel=rbf, probability=True; total time=   0.0s\n",
      "[CV 1/5] END C=10, gamma=0.001, kernel=rbf, probability=True; total time=   0.0s\n",
      "[CV 2/5] END C=10, gamma=0.001, kernel=rbf, probability=True; total time=   0.0s\n",
      "[CV 3/5] END C=10, gamma=0.001, kernel=rbf, probability=True; total time=   0.0s\n",
      "[CV 4/5] END C=10, gamma=0.001, kernel=rbf, probability=True; total time=   0.0s\n",
      "[CV 5/5] END C=10, gamma=0.001, kernel=rbf, probability=True; total time=   0.0s\n",
      "[CV 1/5] END C=10, gamma=0.0001, kernel=rbf, probability=True; total time=   0.0s\n",
      "[CV 2/5] END C=10, gamma=0.0001, kernel=rbf, probability=True; total time=   0.0s\n",
      "[CV 3/5] END C=10, gamma=0.0001, kernel=rbf, probability=True; total time=   0.0s\n",
      "[CV 4/5] END C=10, gamma=0.0001, kernel=rbf, probability=True; total time=   0.0s\n",
      "[CV 5/5] END C=10, gamma=0.0001, kernel=rbf, probability=True; total time=   0.0s\n",
      "[CV 1/5] END ...C=100, gamma=1, kernel=rbf, probability=True; total time=   0.0s\n",
      "[CV 2/5] END ...C=100, gamma=1, kernel=rbf, probability=True; total time=   0.0s\n",
      "[CV 3/5] END ...C=100, gamma=1, kernel=rbf, probability=True; total time=   0.0s\n",
      "[CV 4/5] END ...C=100, gamma=1, kernel=rbf, probability=True; total time=   0.0s\n",
      "[CV 5/5] END ...C=100, gamma=1, kernel=rbf, probability=True; total time=   0.0s\n",
      "[CV 1/5] END .C=100, gamma=0.1, kernel=rbf, probability=True; total time=   0.0s\n",
      "[CV 2/5] END .C=100, gamma=0.1, kernel=rbf, probability=True; total time=   0.0s\n",
      "[CV 3/5] END .C=100, gamma=0.1, kernel=rbf, probability=True; total time=   0.0s\n",
      "[CV 4/5] END .C=100, gamma=0.1, kernel=rbf, probability=True; total time=   0.0s\n",
      "[CV 5/5] END .C=100, gamma=0.1, kernel=rbf, probability=True; total time=   0.0s\n",
      "[CV 1/5] END C=100, gamma=0.01, kernel=rbf, probability=True; total time=   0.0s\n",
      "[CV 2/5] END C=100, gamma=0.01, kernel=rbf, probability=True; total time=   0.0s\n",
      "[CV 3/5] END C=100, gamma=0.01, kernel=rbf, probability=True; total time=   0.0s\n",
      "[CV 4/5] END C=100, gamma=0.01, kernel=rbf, probability=True; total time=   0.0s\n",
      "[CV 5/5] END C=100, gamma=0.01, kernel=rbf, probability=True; total time=   0.0s\n",
      "[CV 1/5] END C=100, gamma=0.001, kernel=rbf, probability=True; total time=   0.0s\n",
      "[CV 2/5] END C=100, gamma=0.001, kernel=rbf, probability=True; total time=   0.0s\n",
      "[CV 3/5] END C=100, gamma=0.001, kernel=rbf, probability=True; total time=   0.0s\n",
      "[CV 4/5] END C=100, gamma=0.001, kernel=rbf, probability=True; total time=   0.0s\n",
      "[CV 5/5] END C=100, gamma=0.001, kernel=rbf, probability=True; total time=   0.0s\n",
      "[CV 1/5] END C=100, gamma=0.0001, kernel=rbf, probability=True; total time=   0.0s\n",
      "[CV 2/5] END C=100, gamma=0.0001, kernel=rbf, probability=True; total time=   0.0s\n",
      "[CV 3/5] END C=100, gamma=0.0001, kernel=rbf, probability=True; total time=   0.0s\n",
      "[CV 4/5] END C=100, gamma=0.0001, kernel=rbf, probability=True; total time=   0.0s\n",
      "[CV 5/5] END C=100, gamma=0.0001, kernel=rbf, probability=True; total time=   0.0s\n"
     ]
    },
    {
     "name": "stdout",
     "output_type": "stream",
     "text": [
      "[CV 1/5] END ..C=1000, gamma=1, kernel=rbf, probability=True; total time=   0.0s\n",
      "[CV 2/5] END ..C=1000, gamma=1, kernel=rbf, probability=True; total time=   0.0s\n",
      "[CV 3/5] END ..C=1000, gamma=1, kernel=rbf, probability=True; total time=   0.0s\n",
      "[CV 4/5] END ..C=1000, gamma=1, kernel=rbf, probability=True; total time=   0.0s\n",
      "[CV 5/5] END ..C=1000, gamma=1, kernel=rbf, probability=True; total time=   0.0s\n",
      "[CV 1/5] END C=1000, gamma=0.1, kernel=rbf, probability=True; total time=   0.0s\n",
      "[CV 2/5] END C=1000, gamma=0.1, kernel=rbf, probability=True; total time=   0.0s\n",
      "[CV 3/5] END C=1000, gamma=0.1, kernel=rbf, probability=True; total time=   0.0s\n",
      "[CV 4/5] END C=1000, gamma=0.1, kernel=rbf, probability=True; total time=   0.0s\n",
      "[CV 5/5] END C=1000, gamma=0.1, kernel=rbf, probability=True; total time=   0.0s\n",
      "[CV 1/5] END C=1000, gamma=0.01, kernel=rbf, probability=True; total time=   0.0s\n",
      "[CV 2/5] END C=1000, gamma=0.01, kernel=rbf, probability=True; total time=   0.0s\n",
      "[CV 3/5] END C=1000, gamma=0.01, kernel=rbf, probability=True; total time=   0.0s\n",
      "[CV 4/5] END C=1000, gamma=0.01, kernel=rbf, probability=True; total time=   0.0s\n",
      "[CV 5/5] END C=1000, gamma=0.01, kernel=rbf, probability=True; total time=   0.0s\n",
      "[CV 1/5] END C=1000, gamma=0.001, kernel=rbf, probability=True; total time=   0.0s\n",
      "[CV 2/5] END C=1000, gamma=0.001, kernel=rbf, probability=True; total time=   0.0s\n",
      "[CV 3/5] END C=1000, gamma=0.001, kernel=rbf, probability=True; total time=   0.0s\n",
      "[CV 4/5] END C=1000, gamma=0.001, kernel=rbf, probability=True; total time=   0.0s\n",
      "[CV 5/5] END C=1000, gamma=0.001, kernel=rbf, probability=True; total time=   0.0s\n",
      "[CV 1/5] END C=1000, gamma=0.0001, kernel=rbf, probability=True; total time=   0.0s\n",
      "[CV 2/5] END C=1000, gamma=0.0001, kernel=rbf, probability=True; total time=   0.0s\n",
      "[CV 3/5] END C=1000, gamma=0.0001, kernel=rbf, probability=True; total time=   0.0s\n",
      "[CV 4/5] END C=1000, gamma=0.0001, kernel=rbf, probability=True; total time=   0.0s\n",
      "[CV 5/5] END C=1000, gamma=0.0001, kernel=rbf, probability=True; total time=   0.0s\n"
     ]
    },
    {
     "data": {
      "text/plain": [
       "GridSearchCV(estimator=SVC(),\n",
       "             param_grid={'C': [0.1, 1, 10, 100, 1000],\n",
       "                         'gamma': [1, 0.1, 0.01, 0.001, 0.0001],\n",
       "                         'kernel': ['rbf'], 'probability': [True]},\n",
       "             verbose=3)"
      ]
     },
     "execution_count": 21,
     "metadata": {},
     "output_type": "execute_result"
    }
   ],
   "source": [
    "param_grid = {'C': [0.1, 1, 10, 100, 1000],\n",
    "              'gamma': [1, 0.1, 0.01, 0.001, 0.0001],\n",
    "              'kernel': ['rbf'],\n",
    "             'probability':[True]}\n",
    " \n",
    "grid_east = GridSearchCV(SVC(), param_grid, refit = True, verbose = 3)\n",
    "grid_east.fit(X_train_east,y_train_east)"
   ]
  },
  {
   "cell_type": "code",
   "execution_count": 22,
   "id": "9c51acc8",
   "metadata": {
    "scrolled": true
   },
   "outputs": [
    {
     "name": "stdout",
     "output_type": "stream",
     "text": [
      "Fitting 5 folds for each of 25 candidates, totalling 125 fits\n",
      "[CV 1/5] END ...C=0.1, gamma=1, kernel=rbf, probability=True; total time=   0.0s\n",
      "[CV 2/5] END ...C=0.1, gamma=1, kernel=rbf, probability=True; total time=   0.0s\n",
      "[CV 3/5] END ...C=0.1, gamma=1, kernel=rbf, probability=True; total time=   0.0s\n",
      "[CV 4/5] END ...C=0.1, gamma=1, kernel=rbf, probability=True; total time=   0.0s\n",
      "[CV 5/5] END ...C=0.1, gamma=1, kernel=rbf, probability=True; total time=   0.0s\n",
      "[CV 1/5] END .C=0.1, gamma=0.1, kernel=rbf, probability=True; total time=   0.0s\n",
      "[CV 2/5] END .C=0.1, gamma=0.1, kernel=rbf, probability=True; total time=   0.0s\n",
      "[CV 3/5] END .C=0.1, gamma=0.1, kernel=rbf, probability=True; total time=   0.0s\n",
      "[CV 4/5] END .C=0.1, gamma=0.1, kernel=rbf, probability=True; total time=   0.0s\n",
      "[CV 5/5] END .C=0.1, gamma=0.1, kernel=rbf, probability=True; total time=   0.0s\n",
      "[CV 1/5] END C=0.1, gamma=0.01, kernel=rbf, probability=True; total time=   0.0s\n",
      "[CV 2/5] END C=0.1, gamma=0.01, kernel=rbf, probability=True; total time=   0.0s\n",
      "[CV 3/5] END C=0.1, gamma=0.01, kernel=rbf, probability=True; total time=   0.0s\n",
      "[CV 4/5] END C=0.1, gamma=0.01, kernel=rbf, probability=True; total time=   0.0s\n",
      "[CV 5/5] END C=0.1, gamma=0.01, kernel=rbf, probability=True; total time=   0.0s\n",
      "[CV 1/5] END C=0.1, gamma=0.001, kernel=rbf, probability=True; total time=   0.0s\n",
      "[CV 2/5] END C=0.1, gamma=0.001, kernel=rbf, probability=True; total time=   0.0s\n",
      "[CV 3/5] END C=0.1, gamma=0.001, kernel=rbf, probability=True; total time=   0.0s\n",
      "[CV 4/5] END C=0.1, gamma=0.001, kernel=rbf, probability=True; total time=   0.0s\n",
      "[CV 5/5] END C=0.1, gamma=0.001, kernel=rbf, probability=True; total time=   0.0s\n",
      "[CV 1/5] END C=0.1, gamma=0.0001, kernel=rbf, probability=True; total time=   0.0s\n",
      "[CV 2/5] END C=0.1, gamma=0.0001, kernel=rbf, probability=True; total time=   0.0s\n",
      "[CV 3/5] END C=0.1, gamma=0.0001, kernel=rbf, probability=True; total time=   0.0s\n",
      "[CV 4/5] END C=0.1, gamma=0.0001, kernel=rbf, probability=True; total time=   0.0s\n",
      "[CV 5/5] END C=0.1, gamma=0.0001, kernel=rbf, probability=True; total time=   0.0s\n",
      "[CV 1/5] END .....C=1, gamma=1, kernel=rbf, probability=True; total time=   0.0s\n",
      "[CV 2/5] END .....C=1, gamma=1, kernel=rbf, probability=True; total time=   0.0s\n",
      "[CV 3/5] END .....C=1, gamma=1, kernel=rbf, probability=True; total time=   0.0s\n",
      "[CV 4/5] END .....C=1, gamma=1, kernel=rbf, probability=True; total time=   0.0s\n",
      "[CV 5/5] END .....C=1, gamma=1, kernel=rbf, probability=True; total time=   0.0s\n",
      "[CV 1/5] END ...C=1, gamma=0.1, kernel=rbf, probability=True; total time=   0.0s\n",
      "[CV 2/5] END ...C=1, gamma=0.1, kernel=rbf, probability=True; total time=   0.0s\n",
      "[CV 3/5] END ...C=1, gamma=0.1, kernel=rbf, probability=True; total time=   0.0s\n",
      "[CV 4/5] END ...C=1, gamma=0.1, kernel=rbf, probability=True; total time=   0.0s\n",
      "[CV 5/5] END ...C=1, gamma=0.1, kernel=rbf, probability=True; total time=   0.0s\n",
      "[CV 1/5] END ..C=1, gamma=0.01, kernel=rbf, probability=True; total time=   0.0s\n",
      "[CV 2/5] END ..C=1, gamma=0.01, kernel=rbf, probability=True; total time=   0.0s\n",
      "[CV 3/5] END ..C=1, gamma=0.01, kernel=rbf, probability=True; total time=   0.0s\n",
      "[CV 4/5] END ..C=1, gamma=0.01, kernel=rbf, probability=True; total time=   0.0s\n",
      "[CV 5/5] END ..C=1, gamma=0.01, kernel=rbf, probability=True; total time=   0.0s\n",
      "[CV 1/5] END .C=1, gamma=0.001, kernel=rbf, probability=True; total time=   0.0s\n",
      "[CV 2/5] END .C=1, gamma=0.001, kernel=rbf, probability=True; total time=   0.0s\n",
      "[CV 3/5] END .C=1, gamma=0.001, kernel=rbf, probability=True; total time=   0.0s\n",
      "[CV 4/5] END .C=1, gamma=0.001, kernel=rbf, probability=True; total time=   0.0s\n",
      "[CV 5/5] END .C=1, gamma=0.001, kernel=rbf, probability=True; total time=   0.0s\n",
      "[CV 1/5] END C=1, gamma=0.0001, kernel=rbf, probability=True; total time=   0.0s\n",
      "[CV 2/5] END C=1, gamma=0.0001, kernel=rbf, probability=True; total time=   0.0s\n",
      "[CV 3/5] END C=1, gamma=0.0001, kernel=rbf, probability=True; total time=   0.0s\n",
      "[CV 4/5] END C=1, gamma=0.0001, kernel=rbf, probability=True; total time=   0.0s\n",
      "[CV 5/5] END C=1, gamma=0.0001, kernel=rbf, probability=True; total time=   0.0s\n",
      "[CV 1/5] END ....C=10, gamma=1, kernel=rbf, probability=True; total time=   0.0s\n",
      "[CV 2/5] END ....C=10, gamma=1, kernel=rbf, probability=True; total time=   0.0s\n",
      "[CV 3/5] END ....C=10, gamma=1, kernel=rbf, probability=True; total time=   0.0s\n",
      "[CV 4/5] END ....C=10, gamma=1, kernel=rbf, probability=True; total time=   0.0s\n",
      "[CV 5/5] END ....C=10, gamma=1, kernel=rbf, probability=True; total time=   0.0s\n",
      "[CV 1/5] END ..C=10, gamma=0.1, kernel=rbf, probability=True; total time=   0.0s\n",
      "[CV 2/5] END ..C=10, gamma=0.1, kernel=rbf, probability=True; total time=   0.0s\n",
      "[CV 3/5] END ..C=10, gamma=0.1, kernel=rbf, probability=True; total time=   0.0s\n",
      "[CV 4/5] END ..C=10, gamma=0.1, kernel=rbf, probability=True; total time=   0.0s\n",
      "[CV 5/5] END ..C=10, gamma=0.1, kernel=rbf, probability=True; total time=   0.0s\n",
      "[CV 1/5] END .C=10, gamma=0.01, kernel=rbf, probability=True; total time=   0.0s\n",
      "[CV 2/5] END .C=10, gamma=0.01, kernel=rbf, probability=True; total time=   0.0s\n",
      "[CV 3/5] END .C=10, gamma=0.01, kernel=rbf, probability=True; total time=   0.0s\n",
      "[CV 4/5] END .C=10, gamma=0.01, kernel=rbf, probability=True; total time=   0.0s\n",
      "[CV 5/5] END .C=10, gamma=0.01, kernel=rbf, probability=True; total time=   0.0s\n",
      "[CV 1/5] END C=10, gamma=0.001, kernel=rbf, probability=True; total time=   0.0s\n",
      "[CV 2/5] END C=10, gamma=0.001, kernel=rbf, probability=True; total time=   0.0s\n",
      "[CV 3/5] END C=10, gamma=0.001, kernel=rbf, probability=True; total time=   0.0s\n",
      "[CV 4/5] END C=10, gamma=0.001, kernel=rbf, probability=True; total time=   0.0s\n",
      "[CV 5/5] END C=10, gamma=0.001, kernel=rbf, probability=True; total time=   0.0s\n",
      "[CV 1/5] END C=10, gamma=0.0001, kernel=rbf, probability=True; total time=   0.0s\n",
      "[CV 2/5] END C=10, gamma=0.0001, kernel=rbf, probability=True; total time=   0.0s\n",
      "[CV 3/5] END C=10, gamma=0.0001, kernel=rbf, probability=True; total time=   0.0s\n",
      "[CV 4/5] END C=10, gamma=0.0001, kernel=rbf, probability=True; total time=   0.0s\n",
      "[CV 5/5] END C=10, gamma=0.0001, kernel=rbf, probability=True; total time=   0.0s\n",
      "[CV 1/5] END ...C=100, gamma=1, kernel=rbf, probability=True; total time=   0.0s\n",
      "[CV 2/5] END ...C=100, gamma=1, kernel=rbf, probability=True; total time=   0.0s\n",
      "[CV 3/5] END ...C=100, gamma=1, kernel=rbf, probability=True; total time=   0.0s\n",
      "[CV 4/5] END ...C=100, gamma=1, kernel=rbf, probability=True; total time=   0.0s\n",
      "[CV 5/5] END ...C=100, gamma=1, kernel=rbf, probability=True; total time=   0.0s\n",
      "[CV 1/5] END .C=100, gamma=0.1, kernel=rbf, probability=True; total time=   0.0s\n",
      "[CV 2/5] END .C=100, gamma=0.1, kernel=rbf, probability=True; total time=   0.0s\n",
      "[CV 3/5] END .C=100, gamma=0.1, kernel=rbf, probability=True; total time=   0.0s\n",
      "[CV 4/5] END .C=100, gamma=0.1, kernel=rbf, probability=True; total time=   0.0s\n",
      "[CV 5/5] END .C=100, gamma=0.1, kernel=rbf, probability=True; total time=   0.0s\n",
      "[CV 1/5] END C=100, gamma=0.01, kernel=rbf, probability=True; total time=   0.0s\n",
      "[CV 2/5] END C=100, gamma=0.01, kernel=rbf, probability=True; total time=   0.0s\n",
      "[CV 3/5] END C=100, gamma=0.01, kernel=rbf, probability=True; total time=   0.0s\n",
      "[CV 4/5] END C=100, gamma=0.01, kernel=rbf, probability=True; total time=   0.0s\n",
      "[CV 5/5] END C=100, gamma=0.01, kernel=rbf, probability=True; total time=   0.0s\n",
      "[CV 1/5] END C=100, gamma=0.001, kernel=rbf, probability=True; total time=   0.0s\n",
      "[CV 2/5] END C=100, gamma=0.001, kernel=rbf, probability=True; total time=   0.0s\n",
      "[CV 3/5] END C=100, gamma=0.001, kernel=rbf, probability=True; total time=   0.0s\n",
      "[CV 4/5] END C=100, gamma=0.001, kernel=rbf, probability=True; total time=   0.0s\n",
      "[CV 5/5] END C=100, gamma=0.001, kernel=rbf, probability=True; total time=   0.0s\n",
      "[CV 1/5] END C=100, gamma=0.0001, kernel=rbf, probability=True; total time=   0.0s\n",
      "[CV 2/5] END C=100, gamma=0.0001, kernel=rbf, probability=True; total time=   0.0s\n",
      "[CV 3/5] END C=100, gamma=0.0001, kernel=rbf, probability=True; total time=   0.0s\n",
      "[CV 4/5] END C=100, gamma=0.0001, kernel=rbf, probability=True; total time=   0.0s\n",
      "[CV 5/5] END C=100, gamma=0.0001, kernel=rbf, probability=True; total time=   0.0s\n",
      "[CV 1/5] END ..C=1000, gamma=1, kernel=rbf, probability=True; total time=   0.0s\n",
      "[CV 2/5] END ..C=1000, gamma=1, kernel=rbf, probability=True; total time=   0.0s\n"
     ]
    },
    {
     "name": "stdout",
     "output_type": "stream",
     "text": [
      "[CV 3/5] END ..C=1000, gamma=1, kernel=rbf, probability=True; total time=   0.0s\n",
      "[CV 4/5] END ..C=1000, gamma=1, kernel=rbf, probability=True; total time=   0.0s\n",
      "[CV 5/5] END ..C=1000, gamma=1, kernel=rbf, probability=True; total time=   0.0s\n",
      "[CV 1/5] END C=1000, gamma=0.1, kernel=rbf, probability=True; total time=   0.0s\n",
      "[CV 2/5] END C=1000, gamma=0.1, kernel=rbf, probability=True; total time=   0.0s\n",
      "[CV 3/5] END C=1000, gamma=0.1, kernel=rbf, probability=True; total time=   0.0s\n",
      "[CV 4/5] END C=1000, gamma=0.1, kernel=rbf, probability=True; total time=   0.0s\n",
      "[CV 5/5] END C=1000, gamma=0.1, kernel=rbf, probability=True; total time=   0.0s\n",
      "[CV 1/5] END C=1000, gamma=0.01, kernel=rbf, probability=True; total time=   0.0s\n",
      "[CV 2/5] END C=1000, gamma=0.01, kernel=rbf, probability=True; total time=   0.0s\n",
      "[CV 3/5] END C=1000, gamma=0.01, kernel=rbf, probability=True; total time=   0.0s\n",
      "[CV 4/5] END C=1000, gamma=0.01, kernel=rbf, probability=True; total time=   0.0s\n",
      "[CV 5/5] END C=1000, gamma=0.01, kernel=rbf, probability=True; total time=   0.0s\n",
      "[CV 1/5] END C=1000, gamma=0.001, kernel=rbf, probability=True; total time=   0.0s\n",
      "[CV 2/5] END C=1000, gamma=0.001, kernel=rbf, probability=True; total time=   0.0s\n",
      "[CV 3/5] END C=1000, gamma=0.001, kernel=rbf, probability=True; total time=   0.0s\n",
      "[CV 4/5] END C=1000, gamma=0.001, kernel=rbf, probability=True; total time=   0.0s\n",
      "[CV 5/5] END C=1000, gamma=0.001, kernel=rbf, probability=True; total time=   0.0s\n",
      "[CV 1/5] END C=1000, gamma=0.0001, kernel=rbf, probability=True; total time=   0.0s\n",
      "[CV 2/5] END C=1000, gamma=0.0001, kernel=rbf, probability=True; total time=   0.0s\n",
      "[CV 3/5] END C=1000, gamma=0.0001, kernel=rbf, probability=True; total time=   0.0s\n",
      "[CV 4/5] END C=1000, gamma=0.0001, kernel=rbf, probability=True; total time=   0.0s\n",
      "[CV 5/5] END C=1000, gamma=0.0001, kernel=rbf, probability=True; total time=   0.0s\n"
     ]
    },
    {
     "data": {
      "text/plain": [
       "GridSearchCV(estimator=SVC(),\n",
       "             param_grid={'C': [0.1, 1, 10, 100, 1000],\n",
       "                         'gamma': [1, 0.1, 0.01, 0.001, 0.0001],\n",
       "                         'kernel': ['rbf'], 'probability': [True]},\n",
       "             verbose=3)"
      ]
     },
     "execution_count": 22,
     "metadata": {},
     "output_type": "execute_result"
    }
   ],
   "source": [
    "param_grid = {'C': [0.1, 1, 10, 100, 1000],\n",
    "              'gamma': [1, 0.1, 0.01, 0.001, 0.0001],\n",
    "              'kernel': ['rbf'],\n",
    "             'probability':[True]}\n",
    " \n",
    "grid_west = GridSearchCV(SVC(), param_grid, refit = True, verbose = 3)\n",
    "grid_west.fit(X_train_west,y_train_west)"
   ]
  },
  {
   "cell_type": "code",
   "execution_count": 23,
   "id": "07ac2a58",
   "metadata": {},
   "outputs": [
    {
     "name": "stdout",
     "output_type": "stream",
     "text": [
      "grid East\n",
      "Training Data Score: 0.9319899244332494\n",
      "Testing Data Score: 0.9239766081871345\n",
      "grid West\n",
      "Training Data Score: 0.9191919191919192\n",
      "Testing Data Score: 0.9235294117647059\n"
     ]
    }
   ],
   "source": [
    "print(\"grid East\")\n",
    "print(f\"Training Data Score: {grid_east.score(X_train_east, y_train_east)}\")\n",
    "print(f\"Testing Data Score: {grid_east.score(X_test_east, y_test_east)}\")\n",
    "\n",
    "print(\"grid West\")\n",
    "print(f\"Training Data Score: {grid_west.score(X_train_west, y_train_west)}\")\n",
    "print(f\"Testing Data Score: {grid_west.score(X_test_west, y_test_west)}\")"
   ]
  },
  {
   "cell_type": "code",
   "execution_count": 24,
   "id": "ed5e17dd",
   "metadata": {},
   "outputs": [],
   "source": [
    "predictions_east = grid_east.predict(curr_east_df)\n",
    "predictions_east_prob = grid_east.predict_proba(curr_east_df)[:,1]\n",
    "predictions_west = grid_west.predict(curr_west_df)\n",
    "predictions_west_prob = grid_west.predict_proba(curr_west_df)[:,1]"
   ]
  },
  {
   "cell_type": "code",
   "execution_count": 25,
   "id": "9144f0a3",
   "metadata": {
    "scrolled": false
   },
   "outputs": [
    {
     "name": "stdout",
     "output_type": "stream",
     "text": [
      "                   Team  predictions  prediction probability\n",
      "11        Brooklyn Nets            1                1.000000\n",
      "9            Miami Heat            1                0.999990\n",
      "0         Chicago Bulls            1                0.996540\n",
      "3    Washington Wizards            1                0.996281\n",
      "13      Milwaukee Bucks            1                0.987168\n",
      "14    Charlotte Hornets            1                0.981060\n",
      "6       New York Knicks            1                0.937375\n",
      "8        Boston Celtics            1                0.881454\n",
      "5    Philadelphia 76ers            1                0.862537\n",
      "12        Atlanta Hawks            1                0.816318\n",
      "2   Cleveland Cavaliers            0                0.427048\n",
      "4       Toronto Raptors            0                0.212694\n",
      "7        Indiana Pacers            0                0.049706\n",
      "10      Detroit Pistons            0                0.000015\n",
      "1         Orlando Magic            0                0.000012\n"
     ]
    }
   ],
   "source": [
    "results_east = pd.DataFrame()\n",
    "results_east['Team'] = teams_east\n",
    "results_east['predictions'] = predictions_east\n",
    "results_east['prediction probability'] = predictions_east_prob\n",
    "print(results_east.sort_values('prediction probability', ascending = False))"
   ]
  },
  {
   "cell_type": "code",
   "execution_count": 26,
   "id": "d677568d",
   "metadata": {
    "scrolled": true
   },
   "outputs": [
    {
     "name": "stdout",
     "output_type": "stream",
     "text": [
      "                      Team  predictions  prediction probability\n",
      "14   Golden State Warriors            1                1.000000\n",
      "5             Phoenix Suns            1                1.000000\n",
      "1                Utah Jazz            1                0.985643\n",
      "6         Dallas Mavericks            1                0.890659\n",
      "7     Los Angeles Clippers            1                0.868424\n",
      "13  Portland Trail Blazers            1                0.715284\n",
      "8        Memphis Grizzlies            1                0.676011\n",
      "12      Los Angeles Lakers            1                0.646166\n",
      "4           Denver Nuggets            1                0.584961\n",
      "10  Minnesota Timberwolves            0                0.396653\n",
      "0         Sacramento Kings            0                0.035531\n",
      "11   Oklahoma City Thunder            0                0.005905\n",
      "9        San Antonio Spurs            0                0.001720\n",
      "3     New Orleans Pelicans            0                0.000580\n",
      "2          Houston Rockets            0                0.000014\n"
     ]
    }
   ],
   "source": [
    "results_west = pd.DataFrame()\n",
    "results_west['Team'] = teams_west\n",
    "results_west['predictions'] = predictions_west\n",
    "results_west['prediction probability'] = predictions_west_prob\n",
    "print(results_west.sort_values('prediction probability', ascending = False))"
   ]
  },
  {
   "cell_type": "code",
   "execution_count": 29,
   "id": "5b5caab2",
   "metadata": {},
   "outputs": [],
   "source": [
    "results_east['Conf'] = 'East'\n",
    "results_west['Conf'] = 'West'"
   ]
  },
  {
   "cell_type": "code",
   "execution_count": 30,
   "id": "83e864d2",
   "metadata": {},
   "outputs": [],
   "source": [
    "results = pd.concat([results_east,results_west])"
   ]
  },
  {
   "cell_type": "code",
   "execution_count": 31,
   "id": "b03faac5",
   "metadata": {},
   "outputs": [],
   "source": [
    "results.to_csv('../Results/SVC-Results.csv')"
   ]
  },
  {
   "cell_type": "code",
   "execution_count": null,
   "id": "d2b1cc01",
   "metadata": {},
   "outputs": [],
   "source": []
  }
 ],
 "metadata": {
  "kernelspec": {
   "display_name": "Python 3",
   "language": "python",
   "name": "python3"
  },
  "language_info": {
   "codemirror_mode": {
    "name": "ipython",
    "version": 3
   },
   "file_extension": ".py",
   "mimetype": "text/x-python",
   "name": "python",
   "nbconvert_exporter": "python",
   "pygments_lexer": "ipython3",
   "version": "3.8.8"
  }
 },
 "nbformat": 4,
 "nbformat_minor": 5
}
