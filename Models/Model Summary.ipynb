{
 "cells": [
  {
   "cell_type": "code",
   "execution_count": 1,
   "id": "93a4885e",
   "metadata": {},
   "outputs": [],
   "source": [
    "import numpy as np\n",
    "import pandas as pd\n",
    "from sklearn.svm import LinearSVC, SVC\n",
    "from sklearn.linear_model import LogisticRegression, LogisticRegressionCV\n",
    "from sklearn.model_selection import train_test_split, cross_val_score, GridSearchCV, RandomizedSearchCV\n",
    "from sklearn.ensemble import RandomForestClassifier\n",
    "from sklearn.preprocessing import StandardScaler"
   ]
  },
  {
   "cell_type": "code",
   "execution_count": 2,
   "id": "354ba3b5",
   "metadata": {},
   "outputs": [],
   "source": [
    "#training set and prediction set(2021-2022 season)\n",
    "train_df = pd.read_csv('../CSV/NBA-season-data-processed.csv')\n",
    "curr_df = pd.read_csv('../CSV/NBA-2022-team-data.csv')\n",
    "\n",
    "#split data by Conference\n",
    "train_east_df = pd.read_csv('../CSV/NBA-teams-data-east.csv')\n",
    "curr_east_df = pd.read_csv('../CSV/NBA-2022-team-data-east.csv')\n",
    "\n",
    "train_west_df = pd.read_csv('../CSV/NBA-teams-data-west.csv')\n",
    "curr_west_df = pd.read_csv('../CSV/NBA-2022-team-data-west.csv')"
   ]
  },
  {
   "cell_type": "raw",
   "id": "b714697e",
   "metadata": {},
   "source": [
    "Logistic Regression (without splitting by Conference)"
   ]
  },
  {
   "cell_type": "code",
   "execution_count": 3,
   "id": "b95c0421",
   "metadata": {
    "scrolled": true
   },
   "outputs": [],
   "source": [
    "X = train_df.drop(['Team','Year','Conf','made_playoff'], axis = 1)\n",
    "y = train_df['made_playoff']"
   ]
  },
  {
   "cell_type": "code",
   "execution_count": 4,
   "id": "71c24d66",
   "metadata": {},
   "outputs": [],
   "source": [
    "X_train, X_test, y_train, y_test = train_test_split(X,y, test_size = .30, random_state = 42)"
   ]
  },
  {
   "cell_type": "code",
   "execution_count": 5,
   "id": "fba43153",
   "metadata": {},
   "outputs": [
    {
     "data": {
      "text/plain": [
       "LogisticRegression()"
      ]
     },
     "execution_count": 5,
     "metadata": {},
     "output_type": "execute_result"
    }
   ],
   "source": [
    "logReg = LogisticRegression()\n",
    "logReg.fit(X_train,y_train)"
   ]
  },
  {
   "cell_type": "code",
   "execution_count": 6,
   "id": "580678e2",
   "metadata": {},
   "outputs": [
    {
     "name": "stdout",
     "output_type": "stream",
     "text": [
      "Logistic Regression Score w/o splitting data by conference\n",
      "Training Data Score: 0.9275184275184275\n",
      "Testing Data Score: 0.9342857142857143\n"
     ]
    }
   ],
   "source": [
    "print('Logistic Regression Score w/o splitting data by conference')\n",
    "print(f\"Training Data Score: {logReg.score(X_train, y_train)}\")\n",
    "print(f\"Testing Data Score: {logReg.score(X_test, y_test)}\")"
   ]
  },
  {
   "cell_type": "code",
   "execution_count": 7,
   "id": "9bfaee3f",
   "metadata": {},
   "outputs": [],
   "source": [
    "teams = curr_df['Team']\n",
    "conf = curr_df['Conf']\n",
    "curr_df = curr_df.drop(['Team','Year','Conf','made_playoff'], axis = 1)"
   ]
  },
  {
   "cell_type": "code",
   "execution_count": 8,
   "id": "694a2a99",
   "metadata": {},
   "outputs": [],
   "source": [
    "predictions = logReg.predict(curr_df)\n",
    "predictions_prob = logReg.predict_proba(curr_df)[:,1]"
   ]
  },
  {
   "cell_type": "code",
   "execution_count": 9,
   "id": "e80c0d7f",
   "metadata": {
    "scrolled": true
   },
   "outputs": [
    {
     "name": "stdout",
     "output_type": "stream",
     "text": [
      "                      Team  predictions  prediction probability Conference\n",
      "0    Golden State Warriors            1                0.999997       West\n",
      "2             Phoenix Suns            1                0.999977       West\n",
      "1                Utah Jazz            1                0.994473       West\n",
      "22        Dallas Mavericks            1                0.972879       West\n",
      "20    Los Angeles Clippers            1                0.927364       West\n",
      "4   Portland Trail Blazers            1                0.759349       West\n",
      "24          Denver Nuggets            1                0.757737       West\n",
      "6        Memphis Grizzlies            1                0.583178       West\n",
      "7       Los Angeles Lakers            1                0.552610       West\n",
      "15  Minnesota Timberwolves            1                0.526726       West\n",
      "28   Oklahoma City Thunder            0                0.031153       West\n",
      "9         Sacramento Kings            0                0.027588       West\n",
      "16       San Antonio Spurs            0                0.001523       West\n",
      "25    New Orleans Pelicans            0                0.000550       West\n",
      "26         Houston Rockets            0                0.000071       West\n",
      "8            Brooklyn Nets            1                0.999081       East\n",
      "11              Miami Heat            1                0.993557       East\n",
      "14           Chicago Bulls            1                0.985606       East\n",
      "21      Washington Wizards            1                0.983380       East\n",
      "10         Milwaukee Bucks            1                0.953955       East\n",
      "3        Charlotte Hornets            1                0.926610       East\n",
      "12          Boston Celtics            1                0.861068       East\n",
      "17         New York Knicks            1                0.855122       East\n",
      "5            Atlanta Hawks            1                0.690617       East\n",
      "18      Philadelphia 76ers            1                0.660649       East\n",
      "23     Cleveland Cavaliers            0                0.434291       East\n",
      "19         Toronto Raptors            0                0.291428       East\n",
      "13          Indiana Pacers            0                0.058215       East\n",
      "29         Detroit Pistons            0                0.002244       East\n",
      "27           Orlando Magic            0                0.000604       East\n"
     ]
    }
   ],
   "source": [
    "results = pd.DataFrame()\n",
    "results['Team'] = teams\n",
    "results['predictions'] = predictions\n",
    "results['prediction probability'] = predictions_prob\n",
    "results['Conference'] = conf\n",
    "print(results.sort_values(['Conference','prediction probability'], ascending = False))"
   ]
  },
  {
   "cell_type": "raw",
   "id": "af609412",
   "metadata": {},
   "source": [
    "Logistic Regression (with splitting by Conference)"
   ]
  },
  {
   "cell_type": "code",
   "execution_count": 10,
   "id": "e7c6eb40",
   "metadata": {},
   "outputs": [],
   "source": [
    "X_east = train_east_df.drop(['Team','Year','Conf','made_playoff'], axis = 1)\n",
    "y_east = train_east_df['made_playoff']\n",
    "\n",
    "X_west = train_west_df.drop(['Team','Year','Conf','made_playoff'], axis = 1)\n",
    "y_west = train_west_df['made_playoff']"
   ]
  },
  {
   "cell_type": "code",
   "execution_count": 11,
   "id": "e35d285e",
   "metadata": {},
   "outputs": [],
   "source": [
    "X_train_east, X_test_east, y_train_east, y_test_east = train_test_split(X_east, y_east, test_size = .30,random_state=42)\n",
    "X_train_west, X_test_west, y_train_west, y_test_west = train_test_split(X_west, y_west, test_size = .30, random_state=42)"
   ]
  },
  {
   "cell_type": "code",
   "execution_count": 12,
   "id": "be3e0565",
   "metadata": {},
   "outputs": [
    {
     "data": {
      "text/plain": [
       "LogisticRegression()"
      ]
     },
     "execution_count": 12,
     "metadata": {},
     "output_type": "execute_result"
    }
   ],
   "source": [
    "logReg_east = LogisticRegression()\n",
    "logReg_east.fit(X_train_east,y_train_east)\n",
    "\n",
    "logReg_west = LogisticRegression()\n",
    "logReg_west.fit(X_train_west,y_train_west)"
   ]
  },
  {
   "cell_type": "code",
   "execution_count": 13,
   "id": "fe96e1d3",
   "metadata": {},
   "outputs": [
    {
     "name": "stdout",
     "output_type": "stream",
     "text": [
      "logistic Regression East\n",
      "Training Data Score: 0.9370277078085643\n",
      "Testing Data Score: 0.9298245614035088\n",
      "logistic Regression West\n",
      "Training Data Score: 0.9217171717171717\n",
      "Testing Data Score: 0.9117647058823529\n"
     ]
    }
   ],
   "source": [
    "print(\"logistic Regression East\")\n",
    "print(f\"Training Data Score: {logReg_east.score(X_train_east, y_train_east)}\")\n",
    "print(f\"Testing Data Score: {logReg_east.score(X_test_east, y_test_east)}\")\n",
    "\n",
    "print(\"logistic Regression West\")\n",
    "print(f\"Training Data Score: {logReg_west.score(X_train_west, y_train_west)}\")\n",
    "print(f\"Testing Data Score: {logReg_west.score(X_test_west, y_test_west)}\")"
   ]
  },
  {
   "cell_type": "code",
   "execution_count": 14,
   "id": "7d7f11c3",
   "metadata": {},
   "outputs": [],
   "source": [
    "teams_east = curr_east_df['Team']\n",
    "teams_west = curr_west_df['Team']\n",
    "curr_east_df = curr_east_df.drop(['Team','Year','Conf','made_playoff'], axis = 1)\n",
    "curr_west_df = curr_west_df.drop(['Team','Year','Conf','made_playoff'], axis = 1)"
   ]
  },
  {
   "cell_type": "code",
   "execution_count": 15,
   "id": "6d45930f",
   "metadata": {},
   "outputs": [],
   "source": [
    "scaler = StandardScaler()\n",
    "curr_east_df = pd.DataFrame(scaler.fit_transform(curr_east_df), columns = curr_east_df.columns)\n",
    "curr_west_df = pd.DataFrame(scaler.fit_transform(curr_west_df), columns = curr_west_df.columns)"
   ]
  },
  {
   "cell_type": "code",
   "execution_count": 16,
   "id": "92e369e2",
   "metadata": {},
   "outputs": [],
   "source": [
    "predictions_east = logReg_east.predict(curr_east_df)\n",
    "predictions_east_prob = logReg_east.predict_proba(curr_east_df)[:,1]\n",
    "predictions_west = logReg_west.predict(curr_west_df)\n",
    "predictions_west_prob = logReg_west.predict_proba(curr_west_df)[:,1]"
   ]
  },
  {
   "cell_type": "code",
   "execution_count": 17,
   "id": "acb9052a",
   "metadata": {
    "scrolled": true
   },
   "outputs": [
    {
     "name": "stdout",
     "output_type": "stream",
     "text": [
      "                   Team  predictions  prediction probability\n",
      "11        Brooklyn Nets            1                0.999768\n",
      "9            Miami Heat            1                0.997013\n",
      "3    Washington Wizards            1                0.994376\n",
      "0         Chicago Bulls            1                0.982397\n",
      "13      Milwaukee Bucks            1                0.943266\n",
      "8        Boston Celtics            1                0.938563\n",
      "6       New York Knicks            1                0.921020\n",
      "14    Charlotte Hornets            1                0.895131\n",
      "5    Philadelphia 76ers            1                0.847330\n",
      "12        Atlanta Hawks            1                0.765363\n",
      "2   Cleveland Cavaliers            0                0.460685\n",
      "4       Toronto Raptors            0                0.308939\n",
      "7        Indiana Pacers            0                0.093415\n",
      "10      Detroit Pistons            0                0.000448\n",
      "1         Orlando Magic            0                0.000095\n"
     ]
    }
   ],
   "source": [
    "results_east = pd.DataFrame()\n",
    "results_east['Team'] = teams_east\n",
    "results_east['predictions'] = predictions_east\n",
    "results_east['prediction probability'] = predictions_east_prob\n",
    "print(results_east.sort_values('prediction probability', ascending = False))"
   ]
  },
  {
   "cell_type": "code",
   "execution_count": 18,
   "id": "9a217d49",
   "metadata": {
    "scrolled": true
   },
   "outputs": [
    {
     "name": "stdout",
     "output_type": "stream",
     "text": [
      "                      Team  predictions  prediction probability\n",
      "14   Golden State Warriors            1                0.999918\n",
      "5             Phoenix Suns            1                0.999730\n",
      "1                Utah Jazz            1                0.977996\n",
      "6         Dallas Mavericks            1                0.906323\n",
      "7     Los Angeles Clippers            1                0.828306\n",
      "13  Portland Trail Blazers            1                0.713329\n",
      "4           Denver Nuggets            1                0.658463\n",
      "8        Memphis Grizzlies            1                0.649719\n",
      "10  Minnesota Timberwolves            1                0.575745\n",
      "12      Los Angeles Lakers            0                0.433892\n",
      "0         Sacramento Kings            0                0.051032\n",
      "11   Oklahoma City Thunder            0                0.030585\n",
      "9        San Antonio Spurs            0                0.017628\n",
      "3     New Orleans Pelicans            0                0.001680\n",
      "2          Houston Rockets            0                0.000511\n"
     ]
    }
   ],
   "source": [
    "results_west = pd.DataFrame()\n",
    "results_west['Team'] = teams_west\n",
    "results_west['predictions'] = predictions_west\n",
    "results_west['prediction probability'] = predictions_west_prob\n",
    "print(results_west.sort_values('prediction probability', ascending = False))"
   ]
  },
  {
   "cell_type": "raw",
   "id": "dca65df8",
   "metadata": {},
   "source": [
    "SVC"
   ]
  },
  {
   "cell_type": "code",
   "execution_count": 19,
   "id": "e0ae2f5a",
   "metadata": {},
   "outputs": [
    {
     "data": {
      "text/plain": [
       "LinearSVC(C=1, max_iter=10000, random_state=42)"
      ]
     },
     "execution_count": 19,
     "metadata": {},
     "output_type": "execute_result"
    }
   ],
   "source": [
    "LinSVC_east = LinearSVC(max_iter = 10000, random_state = 42, C = 1)\n",
    "LinSVC_east.fit(X_train_east, y_train_east)\n",
    "LinSVC_west = LinearSVC(max_iter = 10000, random_state = 42, C = 1)\n",
    "LinSVC_west.fit(X_train_west,y_train_west)"
   ]
  },
  {
   "cell_type": "code",
   "execution_count": 20,
   "id": "bd02abbd",
   "metadata": {},
   "outputs": [
    {
     "name": "stdout",
     "output_type": "stream",
     "text": [
      "LinSVC East\n",
      "Training Data Score: 0.9445843828715366\n",
      "Testing Data Score: 0.9181286549707602\n",
      "LinSVC West\n",
      "Training Data Score: 0.9318181818181818\n",
      "Testing Data Score: 0.9176470588235294\n"
     ]
    }
   ],
   "source": [
    "print(\"LinSVC East\")\n",
    "print(f\"Training Data Score: {LinSVC_east.score(X_train_east, y_train_east)}\")\n",
    "print(f\"Testing Data Score: {LinSVC_east.score(X_test_east, y_test_east)}\")\n",
    "\n",
    "print(\"LinSVC West\")\n",
    "print(f\"Training Data Score: {LinSVC_west.score(X_train_west, y_train_west)}\")\n",
    "print(f\"Testing Data Score: {LinSVC_west.score(X_test_west, y_test_west)}\")"
   ]
  },
  {
   "cell_type": "code",
   "execution_count": 21,
   "id": "8740b730",
   "metadata": {
    "scrolled": true
   },
   "outputs": [
    {
     "data": {
      "text/html": [
       "<div>\n",
       "<style scoped>\n",
       "    .dataframe tbody tr th:only-of-type {\n",
       "        vertical-align: middle;\n",
       "    }\n",
       "\n",
       "    .dataframe tbody tr th {\n",
       "        vertical-align: top;\n",
       "    }\n",
       "\n",
       "    .dataframe thead th {\n",
       "        text-align: right;\n",
       "    }\n",
       "</style>\n",
       "<table border=\"1\" class=\"dataframe\">\n",
       "  <thead>\n",
       "    <tr style=\"text-align: right;\">\n",
       "      <th></th>\n",
       "      <th>Feature</th>\n",
       "      <th>Correlation</th>\n",
       "    </tr>\n",
       "  </thead>\n",
       "  <tbody>\n",
       "    <tr>\n",
       "      <th>20</th>\n",
       "      <td>top_PTS</td>\n",
       "      <td>2.468343</td>\n",
       "    </tr>\n",
       "    <tr>\n",
       "      <th>4</th>\n",
       "      <td>3P%</td>\n",
       "      <td>0.990451</td>\n",
       "    </tr>\n",
       "    <tr>\n",
       "      <th>0</th>\n",
       "      <td>FGA</td>\n",
       "      <td>0.913893</td>\n",
       "    </tr>\n",
       "    <tr>\n",
       "      <th>9</th>\n",
       "      <td>FTA</td>\n",
       "      <td>0.605837</td>\n",
       "    </tr>\n",
       "    <tr>\n",
       "      <th>14</th>\n",
       "      <td>STL</td>\n",
       "      <td>0.131236</td>\n",
       "    </tr>\n",
       "    <tr>\n",
       "      <th>12</th>\n",
       "      <td>DRB</td>\n",
       "      <td>0.122146</td>\n",
       "    </tr>\n",
       "    <tr>\n",
       "      <th>18</th>\n",
       "      <td>PTS</td>\n",
       "      <td>0.067584</td>\n",
       "    </tr>\n",
       "    <tr>\n",
       "      <th>21</th>\n",
       "      <td>top_5_PTS</td>\n",
       "      <td>0.060264</td>\n",
       "    </tr>\n",
       "    <tr>\n",
       "      <th>25</th>\n",
       "      <td>top_5_stats_sum</td>\n",
       "      <td>0.058070</td>\n",
       "    </tr>\n",
       "    <tr>\n",
       "      <th>16</th>\n",
       "      <td>TOV</td>\n",
       "      <td>0.055294</td>\n",
       "    </tr>\n",
       "    <tr>\n",
       "      <th>11</th>\n",
       "      <td>ORB</td>\n",
       "      <td>0.022035</td>\n",
       "    </tr>\n",
       "    <tr>\n",
       "      <th>5</th>\n",
       "      <td>2P</td>\n",
       "      <td>0.010950</td>\n",
       "    </tr>\n",
       "    <tr>\n",
       "      <th>13</th>\n",
       "      <td>AST</td>\n",
       "      <td>-0.005322</td>\n",
       "    </tr>\n",
       "    <tr>\n",
       "      <th>22</th>\n",
       "      <td>top_5_AST</td>\n",
       "      <td>-0.023159</td>\n",
       "    </tr>\n",
       "    <tr>\n",
       "      <th>26</th>\n",
       "      <td>Team</td>\n",
       "      <td>-0.023159</td>\n",
       "    </tr>\n",
       "    <tr>\n",
       "      <th>17</th>\n",
       "      <td>PF</td>\n",
       "      <td>-0.026625</td>\n",
       "    </tr>\n",
       "    <tr>\n",
       "      <th>23</th>\n",
       "      <td>top_5_DRB</td>\n",
       "      <td>-0.051837</td>\n",
       "    </tr>\n",
       "    <tr>\n",
       "      <th>6</th>\n",
       "      <td>2PA</td>\n",
       "      <td>-0.052862</td>\n",
       "    </tr>\n",
       "    <tr>\n",
       "      <th>8</th>\n",
       "      <td>FT</td>\n",
       "      <td>-0.057284</td>\n",
       "    </tr>\n",
       "    <tr>\n",
       "      <th>24</th>\n",
       "      <td>top_5_ORB</td>\n",
       "      <td>-0.093568</td>\n",
       "    </tr>\n",
       "    <tr>\n",
       "      <th>2</th>\n",
       "      <td>3P</td>\n",
       "      <td>-0.156297</td>\n",
       "    </tr>\n",
       "    <tr>\n",
       "      <th>1</th>\n",
       "      <td>FG%</td>\n",
       "      <td>-0.167772</td>\n",
       "    </tr>\n",
       "    <tr>\n",
       "      <th>15</th>\n",
       "      <td>BLK</td>\n",
       "      <td>-0.170235</td>\n",
       "    </tr>\n",
       "    <tr>\n",
       "      <th>7</th>\n",
       "      <td>2P%</td>\n",
       "      <td>-0.301842</td>\n",
       "    </tr>\n",
       "    <tr>\n",
       "      <th>10</th>\n",
       "      <td>FT%</td>\n",
       "      <td>-0.342359</td>\n",
       "    </tr>\n",
       "    <tr>\n",
       "      <th>19</th>\n",
       "      <td>W%</td>\n",
       "      <td>-0.717572</td>\n",
       "    </tr>\n",
       "    <tr>\n",
       "      <th>3</th>\n",
       "      <td>3PA</td>\n",
       "      <td>-1.036708</td>\n",
       "    </tr>\n",
       "    <tr>\n",
       "      <th>27</th>\n",
       "      <td>Year</td>\n",
       "      <td>NaN</td>\n",
       "    </tr>\n",
       "    <tr>\n",
       "      <th>28</th>\n",
       "      <td>Conf</td>\n",
       "      <td>NaN</td>\n",
       "    </tr>\n",
       "    <tr>\n",
       "      <th>29</th>\n",
       "      <td>made_playoff</td>\n",
       "      <td>NaN</td>\n",
       "    </tr>\n",
       "  </tbody>\n",
       "</table>\n",
       "</div>"
      ],
      "text/plain": [
       "            Feature  Correlation\n",
       "20          top_PTS     2.468343\n",
       "4               3P%     0.990451\n",
       "0               FGA     0.913893\n",
       "9               FTA     0.605837\n",
       "14              STL     0.131236\n",
       "12              DRB     0.122146\n",
       "18              PTS     0.067584\n",
       "21        top_5_PTS     0.060264\n",
       "25  top_5_stats_sum     0.058070\n",
       "16              TOV     0.055294\n",
       "11              ORB     0.022035\n",
       "5                2P     0.010950\n",
       "13              AST    -0.005322\n",
       "22        top_5_AST    -0.023159\n",
       "26             Team    -0.023159\n",
       "17               PF    -0.026625\n",
       "23        top_5_DRB    -0.051837\n",
       "6               2PA    -0.052862\n",
       "8                FT    -0.057284\n",
       "24        top_5_ORB    -0.093568\n",
       "2                3P    -0.156297\n",
       "1               FG%    -0.167772\n",
       "15              BLK    -0.170235\n",
       "7               2P%    -0.301842\n",
       "10              FT%    -0.342359\n",
       "19               W%    -0.717572\n",
       "3               3PA    -1.036708\n",
       "27             Year          NaN\n",
       "28             Conf          NaN\n",
       "29     made_playoff          NaN"
      ]
     },
     "execution_count": 21,
     "metadata": {},
     "output_type": "execute_result"
    }
   ],
   "source": [
    "coeff_df = pd.DataFrame(train_east_df.columns.delete(0))\n",
    "coeff_df.columns = ['Feature']\n",
    "coeff_df[\"Correlation\"] = pd.Series(LinSVC_east.coef_[0])\n",
    "\n",
    "coeff_df.sort_values(by='Correlation', ascending=False)"
   ]
  },
  {
   "cell_type": "code",
   "execution_count": 22,
   "id": "9da711bd",
   "metadata": {
    "scrolled": true
   },
   "outputs": [
    {
     "data": {
      "text/html": [
       "<div>\n",
       "<style scoped>\n",
       "    .dataframe tbody tr th:only-of-type {\n",
       "        vertical-align: middle;\n",
       "    }\n",
       "\n",
       "    .dataframe tbody tr th {\n",
       "        vertical-align: top;\n",
       "    }\n",
       "\n",
       "    .dataframe thead th {\n",
       "        text-align: right;\n",
       "    }\n",
       "</style>\n",
       "<table border=\"1\" class=\"dataframe\">\n",
       "  <thead>\n",
       "    <tr style=\"text-align: right;\">\n",
       "      <th></th>\n",
       "      <th>Feature</th>\n",
       "      <th>Correlation</th>\n",
       "    </tr>\n",
       "  </thead>\n",
       "  <tbody>\n",
       "    <tr>\n",
       "      <th>20</th>\n",
       "      <td>top_PTS</td>\n",
       "      <td>1.723019</td>\n",
       "    </tr>\n",
       "    <tr>\n",
       "      <th>19</th>\n",
       "      <td>W%</td>\n",
       "      <td>0.536536</td>\n",
       "    </tr>\n",
       "    <tr>\n",
       "      <th>6</th>\n",
       "      <td>2PA</td>\n",
       "      <td>0.516352</td>\n",
       "    </tr>\n",
       "    <tr>\n",
       "      <th>3</th>\n",
       "      <td>3PA</td>\n",
       "      <td>0.505658</td>\n",
       "    </tr>\n",
       "    <tr>\n",
       "      <th>10</th>\n",
       "      <td>FT%</td>\n",
       "      <td>0.449534</td>\n",
       "    </tr>\n",
       "    <tr>\n",
       "      <th>8</th>\n",
       "      <td>FT</td>\n",
       "      <td>0.176705</td>\n",
       "    </tr>\n",
       "    <tr>\n",
       "      <th>25</th>\n",
       "      <td>top_5_stats_sum</td>\n",
       "      <td>0.167630</td>\n",
       "    </tr>\n",
       "    <tr>\n",
       "      <th>11</th>\n",
       "      <td>ORB</td>\n",
       "      <td>0.153284</td>\n",
       "    </tr>\n",
       "    <tr>\n",
       "      <th>14</th>\n",
       "      <td>STL</td>\n",
       "      <td>0.146034</td>\n",
       "    </tr>\n",
       "    <tr>\n",
       "      <th>15</th>\n",
       "      <td>BLK</td>\n",
       "      <td>0.090565</td>\n",
       "    </tr>\n",
       "    <tr>\n",
       "      <th>18</th>\n",
       "      <td>PTS</td>\n",
       "      <td>0.073314</td>\n",
       "    </tr>\n",
       "    <tr>\n",
       "      <th>21</th>\n",
       "      <td>top_5_PTS</td>\n",
       "      <td>0.072361</td>\n",
       "    </tr>\n",
       "    <tr>\n",
       "      <th>16</th>\n",
       "      <td>TOV</td>\n",
       "      <td>0.059494</td>\n",
       "    </tr>\n",
       "    <tr>\n",
       "      <th>24</th>\n",
       "      <td>top_5_ORB</td>\n",
       "      <td>-0.013855</td>\n",
       "    </tr>\n",
       "    <tr>\n",
       "      <th>13</th>\n",
       "      <td>AST</td>\n",
       "      <td>-0.019750</td>\n",
       "    </tr>\n",
       "    <tr>\n",
       "      <th>23</th>\n",
       "      <td>top_5_DRB</td>\n",
       "      <td>-0.034523</td>\n",
       "    </tr>\n",
       "    <tr>\n",
       "      <th>7</th>\n",
       "      <td>2P%</td>\n",
       "      <td>-0.054368</td>\n",
       "    </tr>\n",
       "    <tr>\n",
       "      <th>17</th>\n",
       "      <td>PF</td>\n",
       "      <td>-0.072535</td>\n",
       "    </tr>\n",
       "    <tr>\n",
       "      <th>22</th>\n",
       "      <td>top_5_AST</td>\n",
       "      <td>-0.104618</td>\n",
       "    </tr>\n",
       "    <tr>\n",
       "      <th>26</th>\n",
       "      <td>Team</td>\n",
       "      <td>-0.104618</td>\n",
       "    </tr>\n",
       "    <tr>\n",
       "      <th>5</th>\n",
       "      <td>2P</td>\n",
       "      <td>-0.151309</td>\n",
       "    </tr>\n",
       "    <tr>\n",
       "      <th>12</th>\n",
       "      <td>DRB</td>\n",
       "      <td>-0.209011</td>\n",
       "    </tr>\n",
       "    <tr>\n",
       "      <th>0</th>\n",
       "      <td>FGA</td>\n",
       "      <td>-0.243876</td>\n",
       "    </tr>\n",
       "    <tr>\n",
       "      <th>1</th>\n",
       "      <td>FG%</td>\n",
       "      <td>-0.438274</td>\n",
       "    </tr>\n",
       "    <tr>\n",
       "      <th>4</th>\n",
       "      <td>3P%</td>\n",
       "      <td>-0.440574</td>\n",
       "    </tr>\n",
       "    <tr>\n",
       "      <th>9</th>\n",
       "      <td>FTA</td>\n",
       "      <td>-0.606362</td>\n",
       "    </tr>\n",
       "    <tr>\n",
       "      <th>2</th>\n",
       "      <td>3P</td>\n",
       "      <td>-0.753808</td>\n",
       "    </tr>\n",
       "    <tr>\n",
       "      <th>27</th>\n",
       "      <td>Year</td>\n",
       "      <td>NaN</td>\n",
       "    </tr>\n",
       "    <tr>\n",
       "      <th>28</th>\n",
       "      <td>Conf</td>\n",
       "      <td>NaN</td>\n",
       "    </tr>\n",
       "    <tr>\n",
       "      <th>29</th>\n",
       "      <td>made_playoff</td>\n",
       "      <td>NaN</td>\n",
       "    </tr>\n",
       "  </tbody>\n",
       "</table>\n",
       "</div>"
      ],
      "text/plain": [
       "            Feature  Correlation\n",
       "20          top_PTS     1.723019\n",
       "19               W%     0.536536\n",
       "6               2PA     0.516352\n",
       "3               3PA     0.505658\n",
       "10              FT%     0.449534\n",
       "8                FT     0.176705\n",
       "25  top_5_stats_sum     0.167630\n",
       "11              ORB     0.153284\n",
       "14              STL     0.146034\n",
       "15              BLK     0.090565\n",
       "18              PTS     0.073314\n",
       "21        top_5_PTS     0.072361\n",
       "16              TOV     0.059494\n",
       "24        top_5_ORB    -0.013855\n",
       "13              AST    -0.019750\n",
       "23        top_5_DRB    -0.034523\n",
       "7               2P%    -0.054368\n",
       "17               PF    -0.072535\n",
       "22        top_5_AST    -0.104618\n",
       "26             Team    -0.104618\n",
       "5                2P    -0.151309\n",
       "12              DRB    -0.209011\n",
       "0               FGA    -0.243876\n",
       "1               FG%    -0.438274\n",
       "4               3P%    -0.440574\n",
       "9               FTA    -0.606362\n",
       "2                3P    -0.753808\n",
       "27             Year          NaN\n",
       "28             Conf          NaN\n",
       "29     made_playoff          NaN"
      ]
     },
     "execution_count": 22,
     "metadata": {},
     "output_type": "execute_result"
    }
   ],
   "source": [
    "coeff_df = pd.DataFrame(train_west_df.columns.delete(0))\n",
    "coeff_df.columns = ['Feature']\n",
    "coeff_df[\"Correlation\"] = pd.Series(LinSVC_west.coef_[0])\n",
    "coeff_df.sort_values(by='Correlation', ascending=False)"
   ]
  },
  {
   "cell_type": "code",
   "execution_count": 23,
   "id": "f8930438",
   "metadata": {},
   "outputs": [],
   "source": [
    "drop_cols_east = ['DRB','top_5_PTS','top_5_stats_sum','TOV','ORB','2P','AST','Team','PF','top_5_DRB'\n",
    "            ,'2PA','FT','top_5_ORB','3P','FG%','BLK','2P%','FT%','Year','Conf','made_playoff']\n",
    "drop_cols_west = ['FT','top_5_stats_sum','ORB','STL','BLK','PTS','top_5_PTS','TOV',\n",
    "                  'top_5_ORB','AST','top_5_DRB','2P%','PF','top_5_AST','Team','2P','DRB','FGA','FG%',\n",
    "                  '3P%','FTA','3P','Year','Conf','made_playoff']"
   ]
  },
  {
   "cell_type": "code",
   "execution_count": 24,
   "id": "6c64da35",
   "metadata": {},
   "outputs": [],
   "source": [
    "X_east = train_east_df.drop(drop_cols_east, axis = 1)\n",
    "y_east = train_east_df['made_playoff']\n",
    "\n",
    "X_west = train_west_df.drop(drop_cols_west, axis = 1)\n",
    "y_west = train_west_df['made_playoff']"
   ]
  },
  {
   "cell_type": "code",
   "execution_count": 25,
   "id": "f42f1d1d",
   "metadata": {},
   "outputs": [],
   "source": [
    "X_train_east, X_test_east, y_train_east, y_test_east = train_test_split(X_east, y_east, test_size = .30,random_state=42)\n",
    "X_train_west, X_test_west, y_train_west, y_test_west = train_test_split(X_west, y_west,test_size = .30, random_state=42)"
   ]
  },
  {
   "cell_type": "code",
   "execution_count": 26,
   "id": "e7f33810",
   "metadata": {},
   "outputs": [
    {
     "data": {
      "text/plain": [
       "LinearSVC(C=1, max_iter=10000, random_state=42)"
      ]
     },
     "execution_count": 26,
     "metadata": {},
     "output_type": "execute_result"
    }
   ],
   "source": [
    "LinSVC_east = LinearSVC(max_iter = 10000, random_state = 42, C = 1)\n",
    "LinSVC_east.fit(X_train_east, y_train_east)\n",
    "LinSVC_west = LinearSVC(max_iter = 10000, random_state = 42, C = 1)\n",
    "LinSVC_west.fit(X_train_west,y_train_west)"
   ]
  },
  {
   "cell_type": "code",
   "execution_count": 27,
   "id": "3136fc90",
   "metadata": {},
   "outputs": [
    {
     "name": "stdout",
     "output_type": "stream",
     "text": [
      "LinSVC East\n",
      "Training Data Score: 0.9395465994962217\n",
      "Testing Data Score: 0.9298245614035088\n",
      "LinSVC West\n",
      "Training Data Score: 0.9141414141414141\n",
      "Testing Data Score: 0.9058823529411765\n"
     ]
    }
   ],
   "source": [
    "print(\"LinSVC East\")\n",
    "print(f\"Training Data Score: {LinSVC_east.score(X_train_east, y_train_east)}\")\n",
    "print(f\"Testing Data Score: {LinSVC_east.score(X_test_east, y_test_east)}\")\n",
    "\n",
    "print(\"LinSVC West\")\n",
    "print(f\"Training Data Score: {LinSVC_west.score(X_train_west, y_train_west)}\")\n",
    "print(f\"Testing Data Score: {LinSVC_west.score(X_test_west, y_test_west)}\")"
   ]
  },
  {
   "cell_type": "code",
   "execution_count": 28,
   "id": "87141c57",
   "metadata": {},
   "outputs": [],
   "source": [
    "#exc drop columns for curr_season \n",
    "drop_cols_east = ['DRB','top_5_PTS','top_5_stats_sum','TOV','ORB','2P','AST','PF','top_5_DRB'\n",
    "            ,'2PA','FT','top_5_ORB','3P','FG%','BLK','2P%','FT%']\n",
    "drop_cols_west = ['FT','top_5_stats_sum','ORB','STL','BLK','PTS','top_5_PTS','TOV',\n",
    "                  'top_5_ORB','AST','top_5_DRB','2P%','PF','top_5_AST','2P','DRB','FGA','FG%',\n",
    "                  '3P%','FTA','3P']"
   ]
  },
  {
   "cell_type": "code",
   "execution_count": 29,
   "id": "fe99834b",
   "metadata": {
    "scrolled": true
   },
   "outputs": [],
   "source": [
    "curr_east_df = curr_east_df.drop(drop_cols_east, axis = 1)\n",
    "curr_west_df = curr_west_df.drop(drop_cols_west, axis = 1)"
   ]
  },
  {
   "cell_type": "code",
   "execution_count": 30,
   "id": "12c51981",
   "metadata": {},
   "outputs": [
    {
     "name": "stdout",
     "output_type": "stream",
     "text": [
      "                   Team  predictions\n",
      "0         Chicago Bulls            1\n",
      "3    Washington Wizards            1\n",
      "5    Philadelphia 76ers            1\n",
      "6       New York Knicks            1\n",
      "8        Boston Celtics            1\n",
      "9            Miami Heat            1\n",
      "11        Brooklyn Nets            1\n",
      "12        Atlanta Hawks            1\n",
      "13      Milwaukee Bucks            1\n",
      "14    Charlotte Hornets            1\n",
      "1         Orlando Magic            0\n",
      "2   Cleveland Cavaliers            0\n",
      "4       Toronto Raptors            0\n",
      "7        Indiana Pacers            0\n",
      "10      Detroit Pistons            0\n"
     ]
    }
   ],
   "source": [
    "predictions_east = LinSVC_east.predict(curr_east_df)\n",
    "results_east = pd.DataFrame()\n",
    "results_east['Team'] = teams_east\n",
    "results_east['predictions'] = predictions_east\n",
    "print(results_east.sort_values('predictions', ascending = False))"
   ]
  },
  {
   "cell_type": "code",
   "execution_count": 31,
   "id": "a477f62f",
   "metadata": {
    "scrolled": true
   },
   "outputs": [
    {
     "name": "stdout",
     "output_type": "stream",
     "text": [
      "                      Team  predictions\n",
      "1                Utah Jazz            1\n",
      "4           Denver Nuggets            1\n",
      "5             Phoenix Suns            1\n",
      "6         Dallas Mavericks            1\n",
      "7     Los Angeles Clippers            1\n",
      "8        Memphis Grizzlies            1\n",
      "10  Minnesota Timberwolves            1\n",
      "12      Los Angeles Lakers            1\n",
      "13  Portland Trail Blazers            1\n",
      "14   Golden State Warriors            1\n",
      "0         Sacramento Kings            0\n",
      "2          Houston Rockets            0\n",
      "3     New Orleans Pelicans            0\n",
      "9        San Antonio Spurs            0\n",
      "11   Oklahoma City Thunder            0\n"
     ]
    }
   ],
   "source": [
    "predictions_west = LinSVC_west.predict(curr_west_df)\n",
    "results_west = pd.DataFrame()\n",
    "results_west['Team'] = teams_west\n",
    "results_west['predictions'] = predictions_west\n",
    "print(results_west.sort_values('predictions', ascending = False))"
   ]
  },
  {
   "cell_type": "raw",
   "id": "5b062a0f",
   "metadata": {},
   "source": [
    "Hypertuning SVC with rbf kernel"
   ]
  },
  {
   "cell_type": "code",
   "execution_count": 32,
   "id": "752b8f8d",
   "metadata": {},
   "outputs": [
    {
     "name": "stdout",
     "output_type": "stream",
     "text": [
      "Fitting 5 folds for each of 25 candidates, totalling 125 fits\n",
      "[CV 1/5] END ...C=0.1, gamma=1, kernel=rbf, probability=True; total time=   0.0s\n",
      "[CV 2/5] END ...C=0.1, gamma=1, kernel=rbf, probability=True; total time=   0.0s\n",
      "[CV 3/5] END ...C=0.1, gamma=1, kernel=rbf, probability=True; total time=   0.0s\n",
      "[CV 4/5] END ...C=0.1, gamma=1, kernel=rbf, probability=True; total time=   0.0s\n",
      "[CV 5/5] END ...C=0.1, gamma=1, kernel=rbf, probability=True; total time=   0.0s\n",
      "[CV 1/5] END .C=0.1, gamma=0.1, kernel=rbf, probability=True; total time=   0.0s\n",
      "[CV 2/5] END .C=0.1, gamma=0.1, kernel=rbf, probability=True; total time=   0.0s\n",
      "[CV 3/5] END .C=0.1, gamma=0.1, kernel=rbf, probability=True; total time=   0.0s\n",
      "[CV 4/5] END .C=0.1, gamma=0.1, kernel=rbf, probability=True; total time=   0.0s\n",
      "[CV 5/5] END .C=0.1, gamma=0.1, kernel=rbf, probability=True; total time=   0.0s\n",
      "[CV 1/5] END C=0.1, gamma=0.01, kernel=rbf, probability=True; total time=   0.0s\n",
      "[CV 2/5] END C=0.1, gamma=0.01, kernel=rbf, probability=True; total time=   0.0s\n",
      "[CV 3/5] END C=0.1, gamma=0.01, kernel=rbf, probability=True; total time=   0.0s\n",
      "[CV 4/5] END C=0.1, gamma=0.01, kernel=rbf, probability=True; total time=   0.0s\n",
      "[CV 5/5] END C=0.1, gamma=0.01, kernel=rbf, probability=True; total time=   0.0s\n",
      "[CV 1/5] END C=0.1, gamma=0.001, kernel=rbf, probability=True; total time=   0.0s\n",
      "[CV 2/5] END C=0.1, gamma=0.001, kernel=rbf, probability=True; total time=   0.0s\n",
      "[CV 3/5] END C=0.1, gamma=0.001, kernel=rbf, probability=True; total time=   0.0s\n",
      "[CV 4/5] END C=0.1, gamma=0.001, kernel=rbf, probability=True; total time=   0.0s\n",
      "[CV 5/5] END C=0.1, gamma=0.001, kernel=rbf, probability=True; total time=   0.0s\n",
      "[CV 1/5] END C=0.1, gamma=0.0001, kernel=rbf, probability=True; total time=   0.0s\n",
      "[CV 2/5] END C=0.1, gamma=0.0001, kernel=rbf, probability=True; total time=   0.0s\n",
      "[CV 3/5] END C=0.1, gamma=0.0001, kernel=rbf, probability=True; total time=   0.0s\n",
      "[CV 4/5] END C=0.1, gamma=0.0001, kernel=rbf, probability=True; total time=   0.0s\n",
      "[CV 5/5] END C=0.1, gamma=0.0001, kernel=rbf, probability=True; total time=   0.0s\n",
      "[CV 1/5] END .....C=1, gamma=1, kernel=rbf, probability=True; total time=   0.0s\n",
      "[CV 2/5] END .....C=1, gamma=1, kernel=rbf, probability=True; total time=   0.0s\n",
      "[CV 3/5] END .....C=1, gamma=1, kernel=rbf, probability=True; total time=   0.0s\n",
      "[CV 4/5] END .....C=1, gamma=1, kernel=rbf, probability=True; total time=   0.0s\n",
      "[CV 5/5] END .....C=1, gamma=1, kernel=rbf, probability=True; total time=   0.0s\n",
      "[CV 1/5] END ...C=1, gamma=0.1, kernel=rbf, probability=True; total time=   0.0s\n",
      "[CV 2/5] END ...C=1, gamma=0.1, kernel=rbf, probability=True; total time=   0.0s\n",
      "[CV 3/5] END ...C=1, gamma=0.1, kernel=rbf, probability=True; total time=   0.0s\n",
      "[CV 4/5] END ...C=1, gamma=0.1, kernel=rbf, probability=True; total time=   0.0s\n",
      "[CV 5/5] END ...C=1, gamma=0.1, kernel=rbf, probability=True; total time=   0.0s\n",
      "[CV 1/5] END ..C=1, gamma=0.01, kernel=rbf, probability=True; total time=   0.0s\n",
      "[CV 2/5] END ..C=1, gamma=0.01, kernel=rbf, probability=True; total time=   0.0s\n",
      "[CV 3/5] END ..C=1, gamma=0.01, kernel=rbf, probability=True; total time=   0.0s\n",
      "[CV 4/5] END ..C=1, gamma=0.01, kernel=rbf, probability=True; total time=   0.0s\n",
      "[CV 5/5] END ..C=1, gamma=0.01, kernel=rbf, probability=True; total time=   0.0s\n",
      "[CV 1/5] END .C=1, gamma=0.001, kernel=rbf, probability=True; total time=   0.0s\n",
      "[CV 2/5] END .C=1, gamma=0.001, kernel=rbf, probability=True; total time=   0.0s\n",
      "[CV 3/5] END .C=1, gamma=0.001, kernel=rbf, probability=True; total time=   0.0s\n",
      "[CV 4/5] END .C=1, gamma=0.001, kernel=rbf, probability=True; total time=   0.0s\n",
      "[CV 5/5] END .C=1, gamma=0.001, kernel=rbf, probability=True; total time=   0.0s\n",
      "[CV 1/5] END C=1, gamma=0.0001, kernel=rbf, probability=True; total time=   0.0s\n",
      "[CV 2/5] END C=1, gamma=0.0001, kernel=rbf, probability=True; total time=   0.0s\n",
      "[CV 3/5] END C=1, gamma=0.0001, kernel=rbf, probability=True; total time=   0.0s\n",
      "[CV 4/5] END C=1, gamma=0.0001, kernel=rbf, probability=True; total time=   0.0s\n",
      "[CV 5/5] END C=1, gamma=0.0001, kernel=rbf, probability=True; total time=   0.0s\n",
      "[CV 1/5] END ....C=10, gamma=1, kernel=rbf, probability=True; total time=   0.0s\n",
      "[CV 2/5] END ....C=10, gamma=1, kernel=rbf, probability=True; total time=   0.0s\n",
      "[CV 3/5] END ....C=10, gamma=1, kernel=rbf, probability=True; total time=   0.0s\n",
      "[CV 4/5] END ....C=10, gamma=1, kernel=rbf, probability=True; total time=   0.0s\n",
      "[CV 5/5] END ....C=10, gamma=1, kernel=rbf, probability=True; total time=   0.0s\n",
      "[CV 1/5] END ..C=10, gamma=0.1, kernel=rbf, probability=True; total time=   0.0s\n",
      "[CV 2/5] END ..C=10, gamma=0.1, kernel=rbf, probability=True; total time=   0.0s\n",
      "[CV 3/5] END ..C=10, gamma=0.1, kernel=rbf, probability=True; total time=   0.0s\n",
      "[CV 4/5] END ..C=10, gamma=0.1, kernel=rbf, probability=True; total time=   0.0s\n",
      "[CV 5/5] END ..C=10, gamma=0.1, kernel=rbf, probability=True; total time=   0.0s\n",
      "[CV 1/5] END .C=10, gamma=0.01, kernel=rbf, probability=True; total time=   0.0s\n",
      "[CV 2/5] END .C=10, gamma=0.01, kernel=rbf, probability=True; total time=   0.0s\n",
      "[CV 3/5] END .C=10, gamma=0.01, kernel=rbf, probability=True; total time=   0.0s\n",
      "[CV 4/5] END .C=10, gamma=0.01, kernel=rbf, probability=True; total time=   0.0s\n",
      "[CV 5/5] END .C=10, gamma=0.01, kernel=rbf, probability=True; total time=   0.0s\n",
      "[CV 1/5] END C=10, gamma=0.001, kernel=rbf, probability=True; total time=   0.0s\n",
      "[CV 2/5] END C=10, gamma=0.001, kernel=rbf, probability=True; total time=   0.0s\n",
      "[CV 3/5] END C=10, gamma=0.001, kernel=rbf, probability=True; total time=   0.0s\n",
      "[CV 4/5] END C=10, gamma=0.001, kernel=rbf, probability=True; total time=   0.0s\n",
      "[CV 5/5] END C=10, gamma=0.001, kernel=rbf, probability=True; total time=   0.0s\n",
      "[CV 1/5] END C=10, gamma=0.0001, kernel=rbf, probability=True; total time=   0.0s\n",
      "[CV 2/5] END C=10, gamma=0.0001, kernel=rbf, probability=True; total time=   0.0s\n",
      "[CV 3/5] END C=10, gamma=0.0001, kernel=rbf, probability=True; total time=   0.0s\n",
      "[CV 4/5] END C=10, gamma=0.0001, kernel=rbf, probability=True; total time=   0.0s\n",
      "[CV 5/5] END C=10, gamma=0.0001, kernel=rbf, probability=True; total time=   0.0s\n",
      "[CV 1/5] END ...C=100, gamma=1, kernel=rbf, probability=True; total time=   0.0s\n",
      "[CV 2/5] END ...C=100, gamma=1, kernel=rbf, probability=True; total time=   0.0s\n",
      "[CV 3/5] END ...C=100, gamma=1, kernel=rbf, probability=True; total time=   0.0s\n",
      "[CV 4/5] END ...C=100, gamma=1, kernel=rbf, probability=True; total time=   0.0s\n",
      "[CV 5/5] END ...C=100, gamma=1, kernel=rbf, probability=True; total time=   0.0s\n",
      "[CV 1/5] END .C=100, gamma=0.1, kernel=rbf, probability=True; total time=   0.0s\n",
      "[CV 2/5] END .C=100, gamma=0.1, kernel=rbf, probability=True; total time=   0.0s\n",
      "[CV 3/5] END .C=100, gamma=0.1, kernel=rbf, probability=True; total time=   0.0s\n",
      "[CV 4/5] END .C=100, gamma=0.1, kernel=rbf, probability=True; total time=   0.0s\n",
      "[CV 5/5] END .C=100, gamma=0.1, kernel=rbf, probability=True; total time=   0.0s\n",
      "[CV 1/5] END C=100, gamma=0.01, kernel=rbf, probability=True; total time=   0.0s\n",
      "[CV 2/5] END C=100, gamma=0.01, kernel=rbf, probability=True; total time=   0.0s\n",
      "[CV 3/5] END C=100, gamma=0.01, kernel=rbf, probability=True; total time=   0.0s\n",
      "[CV 4/5] END C=100, gamma=0.01, kernel=rbf, probability=True; total time=   0.0s\n",
      "[CV 5/5] END C=100, gamma=0.01, kernel=rbf, probability=True; total time=   0.0s\n",
      "[CV 1/5] END C=100, gamma=0.001, kernel=rbf, probability=True; total time=   0.0s\n",
      "[CV 2/5] END C=100, gamma=0.001, kernel=rbf, probability=True; total time=   0.0s\n",
      "[CV 3/5] END C=100, gamma=0.001, kernel=rbf, probability=True; total time=   0.0s\n",
      "[CV 4/5] END C=100, gamma=0.001, kernel=rbf, probability=True; total time=   0.0s\n",
      "[CV 5/5] END C=100, gamma=0.001, kernel=rbf, probability=True; total time=   0.0s\n",
      "[CV 1/5] END C=100, gamma=0.0001, kernel=rbf, probability=True; total time=   0.0s\n",
      "[CV 2/5] END C=100, gamma=0.0001, kernel=rbf, probability=True; total time=   0.0s\n",
      "[CV 3/5] END C=100, gamma=0.0001, kernel=rbf, probability=True; total time=   0.0s\n",
      "[CV 4/5] END C=100, gamma=0.0001, kernel=rbf, probability=True; total time=   0.0s\n",
      "[CV 5/5] END C=100, gamma=0.0001, kernel=rbf, probability=True; total time=   0.0s\n",
      "[CV 1/5] END ..C=1000, gamma=1, kernel=rbf, probability=True; total time=   0.0s\n",
      "[CV 2/5] END ..C=1000, gamma=1, kernel=rbf, probability=True; total time=   0.0s\n"
     ]
    },
    {
     "name": "stdout",
     "output_type": "stream",
     "text": [
      "[CV 3/5] END ..C=1000, gamma=1, kernel=rbf, probability=True; total time=   0.0s\n",
      "[CV 4/5] END ..C=1000, gamma=1, kernel=rbf, probability=True; total time=   0.0s\n",
      "[CV 5/5] END ..C=1000, gamma=1, kernel=rbf, probability=True; total time=   0.0s\n",
      "[CV 1/5] END C=1000, gamma=0.1, kernel=rbf, probability=True; total time=   0.0s\n",
      "[CV 2/5] END C=1000, gamma=0.1, kernel=rbf, probability=True; total time=   0.0s\n",
      "[CV 3/5] END C=1000, gamma=0.1, kernel=rbf, probability=True; total time=   0.0s\n",
      "[CV 4/5] END C=1000, gamma=0.1, kernel=rbf, probability=True; total time=   0.0s\n",
      "[CV 5/5] END C=1000, gamma=0.1, kernel=rbf, probability=True; total time=   0.0s\n",
      "[CV 1/5] END C=1000, gamma=0.01, kernel=rbf, probability=True; total time=   0.0s\n",
      "[CV 2/5] END C=1000, gamma=0.01, kernel=rbf, probability=True; total time=   0.0s\n",
      "[CV 3/5] END C=1000, gamma=0.01, kernel=rbf, probability=True; total time=   0.0s\n",
      "[CV 4/5] END C=1000, gamma=0.01, kernel=rbf, probability=True; total time=   0.0s\n",
      "[CV 5/5] END C=1000, gamma=0.01, kernel=rbf, probability=True; total time=   0.0s\n",
      "[CV 1/5] END C=1000, gamma=0.001, kernel=rbf, probability=True; total time=   0.0s\n",
      "[CV 2/5] END C=1000, gamma=0.001, kernel=rbf, probability=True; total time=   0.0s\n",
      "[CV 3/5] END C=1000, gamma=0.001, kernel=rbf, probability=True; total time=   0.0s\n",
      "[CV 4/5] END C=1000, gamma=0.001, kernel=rbf, probability=True; total time=   0.0s\n",
      "[CV 5/5] END C=1000, gamma=0.001, kernel=rbf, probability=True; total time=   0.0s\n",
      "[CV 1/5] END C=1000, gamma=0.0001, kernel=rbf, probability=True; total time=   0.0s\n",
      "[CV 2/5] END C=1000, gamma=0.0001, kernel=rbf, probability=True; total time=   0.0s\n",
      "[CV 3/5] END C=1000, gamma=0.0001, kernel=rbf, probability=True; total time=   0.0s\n",
      "[CV 4/5] END C=1000, gamma=0.0001, kernel=rbf, probability=True; total time=   0.0s\n",
      "[CV 5/5] END C=1000, gamma=0.0001, kernel=rbf, probability=True; total time=   0.0s\n"
     ]
    },
    {
     "data": {
      "text/plain": [
       "GridSearchCV(estimator=SVC(),\n",
       "             param_grid={'C': [0.1, 1, 10, 100, 1000],\n",
       "                         'gamma': [1, 0.1, 0.01, 0.001, 0.0001],\n",
       "                         'kernel': ['rbf'], 'probability': [True]},\n",
       "             verbose=3)"
      ]
     },
     "execution_count": 32,
     "metadata": {},
     "output_type": "execute_result"
    }
   ],
   "source": [
    "param_grid = {'C': [0.1, 1, 10, 100, 1000],\n",
    "              'gamma': [1, 0.1, 0.01, 0.001, 0.0001],\n",
    "              'kernel': ['rbf'],\n",
    "             'probability':[True]}\n",
    " \n",
    "grid_east = GridSearchCV(SVC(), param_grid, refit = True, verbose = 3)\n",
    "grid_east.fit(X_train_east,y_train_east)"
   ]
  },
  {
   "cell_type": "code",
   "execution_count": 33,
   "id": "e78bebdb",
   "metadata": {
    "scrolled": true
   },
   "outputs": [
    {
     "name": "stdout",
     "output_type": "stream",
     "text": [
      "Fitting 5 folds for each of 25 candidates, totalling 125 fits\n",
      "[CV 1/5] END ...C=0.1, gamma=1, kernel=rbf, probability=True; total time=   0.0s\n",
      "[CV 2/5] END ...C=0.1, gamma=1, kernel=rbf, probability=True; total time=   0.0s\n",
      "[CV 3/5] END ...C=0.1, gamma=1, kernel=rbf, probability=True; total time=   0.0s\n",
      "[CV 4/5] END ...C=0.1, gamma=1, kernel=rbf, probability=True; total time=   0.0s\n",
      "[CV 5/5] END ...C=0.1, gamma=1, kernel=rbf, probability=True; total time=   0.0s\n",
      "[CV 1/5] END .C=0.1, gamma=0.1, kernel=rbf, probability=True; total time=   0.0s\n",
      "[CV 2/5] END .C=0.1, gamma=0.1, kernel=rbf, probability=True; total time=   0.0s\n",
      "[CV 3/5] END .C=0.1, gamma=0.1, kernel=rbf, probability=True; total time=   0.0s\n",
      "[CV 4/5] END .C=0.1, gamma=0.1, kernel=rbf, probability=True; total time=   0.0s\n",
      "[CV 5/5] END .C=0.1, gamma=0.1, kernel=rbf, probability=True; total time=   0.0s\n",
      "[CV 1/5] END C=0.1, gamma=0.01, kernel=rbf, probability=True; total time=   0.0s\n",
      "[CV 2/5] END C=0.1, gamma=0.01, kernel=rbf, probability=True; total time=   0.0s\n",
      "[CV 3/5] END C=0.1, gamma=0.01, kernel=rbf, probability=True; total time=   0.0s\n",
      "[CV 4/5] END C=0.1, gamma=0.01, kernel=rbf, probability=True; total time=   0.0s\n",
      "[CV 5/5] END C=0.1, gamma=0.01, kernel=rbf, probability=True; total time=   0.0s\n",
      "[CV 1/5] END C=0.1, gamma=0.001, kernel=rbf, probability=True; total time=   0.0s\n",
      "[CV 2/5] END C=0.1, gamma=0.001, kernel=rbf, probability=True; total time=   0.0s\n",
      "[CV 3/5] END C=0.1, gamma=0.001, kernel=rbf, probability=True; total time=   0.0s\n",
      "[CV 4/5] END C=0.1, gamma=0.001, kernel=rbf, probability=True; total time=   0.0s\n",
      "[CV 5/5] END C=0.1, gamma=0.001, kernel=rbf, probability=True; total time=   0.0s\n",
      "[CV 1/5] END C=0.1, gamma=0.0001, kernel=rbf, probability=True; total time=   0.0s\n",
      "[CV 2/5] END C=0.1, gamma=0.0001, kernel=rbf, probability=True; total time=   0.0s\n",
      "[CV 3/5] END C=0.1, gamma=0.0001, kernel=rbf, probability=True; total time=   0.0s\n",
      "[CV 4/5] END C=0.1, gamma=0.0001, kernel=rbf, probability=True; total time=   0.0s\n",
      "[CV 5/5] END C=0.1, gamma=0.0001, kernel=rbf, probability=True; total time=   0.0s\n",
      "[CV 1/5] END .....C=1, gamma=1, kernel=rbf, probability=True; total time=   0.0s\n",
      "[CV 2/5] END .....C=1, gamma=1, kernel=rbf, probability=True; total time=   0.0s\n",
      "[CV 3/5] END .....C=1, gamma=1, kernel=rbf, probability=True; total time=   0.0s\n",
      "[CV 4/5] END .....C=1, gamma=1, kernel=rbf, probability=True; total time=   0.0s\n",
      "[CV 5/5] END .....C=1, gamma=1, kernel=rbf, probability=True; total time=   0.0s\n",
      "[CV 1/5] END ...C=1, gamma=0.1, kernel=rbf, probability=True; total time=   0.0s\n",
      "[CV 2/5] END ...C=1, gamma=0.1, kernel=rbf, probability=True; total time=   0.0s\n",
      "[CV 3/5] END ...C=1, gamma=0.1, kernel=rbf, probability=True; total time=   0.0s\n",
      "[CV 4/5] END ...C=1, gamma=0.1, kernel=rbf, probability=True; total time=   0.0s\n",
      "[CV 5/5] END ...C=1, gamma=0.1, kernel=rbf, probability=True; total time=   0.0s\n",
      "[CV 1/5] END ..C=1, gamma=0.01, kernel=rbf, probability=True; total time=   0.0s\n",
      "[CV 2/5] END ..C=1, gamma=0.01, kernel=rbf, probability=True; total time=   0.0s\n",
      "[CV 3/5] END ..C=1, gamma=0.01, kernel=rbf, probability=True; total time=   0.0s\n",
      "[CV 4/5] END ..C=1, gamma=0.01, kernel=rbf, probability=True; total time=   0.0s\n",
      "[CV 5/5] END ..C=1, gamma=0.01, kernel=rbf, probability=True; total time=   0.0s\n",
      "[CV 1/5] END .C=1, gamma=0.001, kernel=rbf, probability=True; total time=   0.0s\n",
      "[CV 2/5] END .C=1, gamma=0.001, kernel=rbf, probability=True; total time=   0.0s\n",
      "[CV 3/5] END .C=1, gamma=0.001, kernel=rbf, probability=True; total time=   0.0s\n",
      "[CV 4/5] END .C=1, gamma=0.001, kernel=rbf, probability=True; total time=   0.0s\n",
      "[CV 5/5] END .C=1, gamma=0.001, kernel=rbf, probability=True; total time=   0.0s\n",
      "[CV 1/5] END C=1, gamma=0.0001, kernel=rbf, probability=True; total time=   0.0s\n",
      "[CV 2/5] END C=1, gamma=0.0001, kernel=rbf, probability=True; total time=   0.0s\n",
      "[CV 3/5] END C=1, gamma=0.0001, kernel=rbf, probability=True; total time=   0.0s\n",
      "[CV 4/5] END C=1, gamma=0.0001, kernel=rbf, probability=True; total time=   0.0s\n",
      "[CV 5/5] END C=1, gamma=0.0001, kernel=rbf, probability=True; total time=   0.0s\n",
      "[CV 1/5] END ....C=10, gamma=1, kernel=rbf, probability=True; total time=   0.0s\n",
      "[CV 2/5] END ....C=10, gamma=1, kernel=rbf, probability=True; total time=   0.0s\n",
      "[CV 3/5] END ....C=10, gamma=1, kernel=rbf, probability=True; total time=   0.0s\n",
      "[CV 4/5] END ....C=10, gamma=1, kernel=rbf, probability=True; total time=   0.0s\n",
      "[CV 5/5] END ....C=10, gamma=1, kernel=rbf, probability=True; total time=   0.0s\n",
      "[CV 1/5] END ..C=10, gamma=0.1, kernel=rbf, probability=True; total time=   0.0s\n",
      "[CV 2/5] END ..C=10, gamma=0.1, kernel=rbf, probability=True; total time=   0.0s\n",
      "[CV 3/5] END ..C=10, gamma=0.1, kernel=rbf, probability=True; total time=   0.0s\n",
      "[CV 4/5] END ..C=10, gamma=0.1, kernel=rbf, probability=True; total time=   0.0s\n",
      "[CV 5/5] END ..C=10, gamma=0.1, kernel=rbf, probability=True; total time=   0.0s\n",
      "[CV 1/5] END .C=10, gamma=0.01, kernel=rbf, probability=True; total time=   0.0s\n",
      "[CV 2/5] END .C=10, gamma=0.01, kernel=rbf, probability=True; total time=   0.0s\n",
      "[CV 3/5] END .C=10, gamma=0.01, kernel=rbf, probability=True; total time=   0.0s\n",
      "[CV 4/5] END .C=10, gamma=0.01, kernel=rbf, probability=True; total time=   0.0s\n",
      "[CV 5/5] END .C=10, gamma=0.01, kernel=rbf, probability=True; total time=   0.0s\n",
      "[CV 1/5] END C=10, gamma=0.001, kernel=rbf, probability=True; total time=   0.0s\n",
      "[CV 2/5] END C=10, gamma=0.001, kernel=rbf, probability=True; total time=   0.0s\n",
      "[CV 3/5] END C=10, gamma=0.001, kernel=rbf, probability=True; total time=   0.0s\n",
      "[CV 4/5] END C=10, gamma=0.001, kernel=rbf, probability=True; total time=   0.0s\n",
      "[CV 5/5] END C=10, gamma=0.001, kernel=rbf, probability=True; total time=   0.0s\n",
      "[CV 1/5] END C=10, gamma=0.0001, kernel=rbf, probability=True; total time=   0.0s\n",
      "[CV 2/5] END C=10, gamma=0.0001, kernel=rbf, probability=True; total time=   0.0s\n",
      "[CV 3/5] END C=10, gamma=0.0001, kernel=rbf, probability=True; total time=   0.0s\n",
      "[CV 4/5] END C=10, gamma=0.0001, kernel=rbf, probability=True; total time=   0.0s\n",
      "[CV 5/5] END C=10, gamma=0.0001, kernel=rbf, probability=True; total time=   0.0s\n",
      "[CV 1/5] END ...C=100, gamma=1, kernel=rbf, probability=True; total time=   0.0s\n",
      "[CV 2/5] END ...C=100, gamma=1, kernel=rbf, probability=True; total time=   0.0s\n",
      "[CV 3/5] END ...C=100, gamma=1, kernel=rbf, probability=True; total time=   0.0s\n",
      "[CV 4/5] END ...C=100, gamma=1, kernel=rbf, probability=True; total time=   0.0s\n",
      "[CV 5/5] END ...C=100, gamma=1, kernel=rbf, probability=True; total time=   0.0s\n",
      "[CV 1/5] END .C=100, gamma=0.1, kernel=rbf, probability=True; total time=   0.0s\n",
      "[CV 2/5] END .C=100, gamma=0.1, kernel=rbf, probability=True; total time=   0.0s\n",
      "[CV 3/5] END .C=100, gamma=0.1, kernel=rbf, probability=True; total time=   0.0s\n",
      "[CV 4/5] END .C=100, gamma=0.1, kernel=rbf, probability=True; total time=   0.0s\n",
      "[CV 5/5] END .C=100, gamma=0.1, kernel=rbf, probability=True; total time=   0.0s\n",
      "[CV 1/5] END C=100, gamma=0.01, kernel=rbf, probability=True; total time=   0.0s\n",
      "[CV 2/5] END C=100, gamma=0.01, kernel=rbf, probability=True; total time=   0.0s\n",
      "[CV 3/5] END C=100, gamma=0.01, kernel=rbf, probability=True; total time=   0.0s\n",
      "[CV 4/5] END C=100, gamma=0.01, kernel=rbf, probability=True; total time=   0.0s\n",
      "[CV 5/5] END C=100, gamma=0.01, kernel=rbf, probability=True; total time=   0.0s\n",
      "[CV 1/5] END C=100, gamma=0.001, kernel=rbf, probability=True; total time=   0.0s\n",
      "[CV 2/5] END C=100, gamma=0.001, kernel=rbf, probability=True; total time=   0.0s\n",
      "[CV 3/5] END C=100, gamma=0.001, kernel=rbf, probability=True; total time=   0.0s\n",
      "[CV 4/5] END C=100, gamma=0.001, kernel=rbf, probability=True; total time=   0.0s\n",
      "[CV 5/5] END C=100, gamma=0.001, kernel=rbf, probability=True; total time=   0.0s\n",
      "[CV 1/5] END C=100, gamma=0.0001, kernel=rbf, probability=True; total time=   0.0s\n",
      "[CV 2/5] END C=100, gamma=0.0001, kernel=rbf, probability=True; total time=   0.0s\n",
      "[CV 3/5] END C=100, gamma=0.0001, kernel=rbf, probability=True; total time=   0.0s\n",
      "[CV 4/5] END C=100, gamma=0.0001, kernel=rbf, probability=True; total time=   0.0s\n",
      "[CV 5/5] END C=100, gamma=0.0001, kernel=rbf, probability=True; total time=   0.0s\n",
      "[CV 1/5] END ..C=1000, gamma=1, kernel=rbf, probability=True; total time=   0.0s\n"
     ]
    },
    {
     "name": "stdout",
     "output_type": "stream",
     "text": [
      "[CV 2/5] END ..C=1000, gamma=1, kernel=rbf, probability=True; total time=   0.0s\n",
      "[CV 3/5] END ..C=1000, gamma=1, kernel=rbf, probability=True; total time=   0.0s\n",
      "[CV 4/5] END ..C=1000, gamma=1, kernel=rbf, probability=True; total time=   0.0s\n",
      "[CV 5/5] END ..C=1000, gamma=1, kernel=rbf, probability=True; total time=   0.0s\n",
      "[CV 1/5] END C=1000, gamma=0.1, kernel=rbf, probability=True; total time=   0.0s\n",
      "[CV 2/5] END C=1000, gamma=0.1, kernel=rbf, probability=True; total time=   0.0s\n",
      "[CV 3/5] END C=1000, gamma=0.1, kernel=rbf, probability=True; total time=   0.0s\n",
      "[CV 4/5] END C=1000, gamma=0.1, kernel=rbf, probability=True; total time=   0.0s\n",
      "[CV 5/5] END C=1000, gamma=0.1, kernel=rbf, probability=True; total time=   0.0s\n",
      "[CV 1/5] END C=1000, gamma=0.01, kernel=rbf, probability=True; total time=   0.0s\n",
      "[CV 2/5] END C=1000, gamma=0.01, kernel=rbf, probability=True; total time=   0.0s\n",
      "[CV 3/5] END C=1000, gamma=0.01, kernel=rbf, probability=True; total time=   0.0s\n",
      "[CV 4/5] END C=1000, gamma=0.01, kernel=rbf, probability=True; total time=   0.0s\n",
      "[CV 5/5] END C=1000, gamma=0.01, kernel=rbf, probability=True; total time=   0.0s\n",
      "[CV 1/5] END C=1000, gamma=0.001, kernel=rbf, probability=True; total time=   0.0s\n",
      "[CV 2/5] END C=1000, gamma=0.001, kernel=rbf, probability=True; total time=   0.0s\n",
      "[CV 3/5] END C=1000, gamma=0.001, kernel=rbf, probability=True; total time=   0.0s\n",
      "[CV 4/5] END C=1000, gamma=0.001, kernel=rbf, probability=True; total time=   0.0s\n",
      "[CV 5/5] END C=1000, gamma=0.001, kernel=rbf, probability=True; total time=   0.0s\n",
      "[CV 1/5] END C=1000, gamma=0.0001, kernel=rbf, probability=True; total time=   0.0s\n",
      "[CV 2/5] END C=1000, gamma=0.0001, kernel=rbf, probability=True; total time=   0.0s\n",
      "[CV 3/5] END C=1000, gamma=0.0001, kernel=rbf, probability=True; total time=   0.0s\n",
      "[CV 4/5] END C=1000, gamma=0.0001, kernel=rbf, probability=True; total time=   0.0s\n",
      "[CV 5/5] END C=1000, gamma=0.0001, kernel=rbf, probability=True; total time=   0.0s\n"
     ]
    },
    {
     "data": {
      "text/plain": [
       "GridSearchCV(estimator=SVC(),\n",
       "             param_grid={'C': [0.1, 1, 10, 100, 1000],\n",
       "                         'gamma': [1, 0.1, 0.01, 0.001, 0.0001],\n",
       "                         'kernel': ['rbf'], 'probability': [True]},\n",
       "             verbose=3)"
      ]
     },
     "execution_count": 33,
     "metadata": {},
     "output_type": "execute_result"
    }
   ],
   "source": [
    "param_grid = {'C': [0.1, 1, 10, 100, 1000],\n",
    "              'gamma': [1, 0.1, 0.01, 0.001, 0.0001],\n",
    "              'kernel': ['rbf'],\n",
    "             'probability':[True]}\n",
    " \n",
    "grid_west = GridSearchCV(SVC(), param_grid, refit = True, verbose = 3)\n",
    "grid_west.fit(X_train_west,y_train_west)"
   ]
  },
  {
   "cell_type": "code",
   "execution_count": 34,
   "id": "d2aa5c09",
   "metadata": {},
   "outputs": [
    {
     "name": "stdout",
     "output_type": "stream",
     "text": [
      "grid East\n",
      "Training Data Score: 0.9319899244332494\n",
      "Testing Data Score: 0.9239766081871345\n",
      "grid West\n",
      "Training Data Score: 0.9191919191919192\n",
      "Testing Data Score: 0.9235294117647059\n"
     ]
    }
   ],
   "source": [
    "print(\"grid East\")\n",
    "print(f\"Training Data Score: {grid_east.score(X_train_east, y_train_east)}\")\n",
    "print(f\"Testing Data Score: {grid_east.score(X_test_east, y_test_east)}\")\n",
    "\n",
    "print(\"grid West\")\n",
    "print(f\"Training Data Score: {grid_west.score(X_train_west, y_train_west)}\")\n",
    "print(f\"Testing Data Score: {grid_west.score(X_test_west, y_test_west)}\")"
   ]
  },
  {
   "cell_type": "code",
   "execution_count": 35,
   "id": "d6372488",
   "metadata": {},
   "outputs": [],
   "source": [
    "predictions_east = grid_east.predict(curr_east_df)\n",
    "predictions_east_prob = grid_east.predict_proba(curr_east_df)[:,1]\n",
    "predictions_west = grid_west.predict(curr_west_df)\n",
    "predictions_west_prob = grid_west.predict_proba(curr_west_df)[:,1]"
   ]
  },
  {
   "cell_type": "code",
   "execution_count": 36,
   "id": "869529f2",
   "metadata": {},
   "outputs": [
    {
     "name": "stdout",
     "output_type": "stream",
     "text": [
      "                   Team  predictions  prediction probability\n",
      "11        Brooklyn Nets            1                1.000000\n",
      "9            Miami Heat            1                0.999985\n",
      "0         Chicago Bulls            1                0.995903\n",
      "3    Washington Wizards            1                0.995613\n",
      "13      Milwaukee Bucks            1                0.985843\n",
      "14    Charlotte Hornets            1                0.979542\n",
      "6       New York Knicks            1                0.936616\n",
      "8        Boston Celtics            1                0.883962\n",
      "5    Philadelphia 76ers            1                0.866430\n",
      "12        Atlanta Hawks            1                0.823911\n",
      "2   Cleveland Cavaliers            0                0.462902\n",
      "4       Toronto Raptors            0                0.248036\n",
      "7        Indiana Pacers            0                0.062876\n",
      "10      Detroit Pistons            0                0.000031\n",
      "1         Orlando Magic            0                0.000025\n"
     ]
    }
   ],
   "source": [
    "results_east = pd.DataFrame()\n",
    "results_east['Team'] = teams_east\n",
    "results_east['predictions'] = predictions_east\n",
    "results_east['prediction probability'] = predictions_east_prob\n",
    "print(results_east.sort_values('prediction probability', ascending = False))"
   ]
  },
  {
   "cell_type": "code",
   "execution_count": 37,
   "id": "757230dc",
   "metadata": {},
   "outputs": [
    {
     "name": "stdout",
     "output_type": "stream",
     "text": [
      "                      Team  predictions  prediction probability\n",
      "14   Golden State Warriors            1                1.000000\n",
      "5             Phoenix Suns            1                1.000000\n",
      "1                Utah Jazz            1                0.979747\n",
      "6         Dallas Mavericks            1                0.887562\n",
      "7     Los Angeles Clippers            1                0.876461\n",
      "13  Portland Trail Blazers            1                0.751176\n",
      "8        Memphis Grizzlies            1                0.729147\n",
      "12      Los Angeles Lakers            1                0.698882\n",
      "4           Denver Nuggets            1                0.650810\n",
      "10  Minnesota Timberwolves            1                0.480218\n",
      "0         Sacramento Kings            0                0.074431\n",
      "11   Oklahoma City Thunder            0                0.016409\n",
      "9        San Antonio Spurs            0                0.006150\n",
      "3     New Orleans Pelicans            0                0.002592\n",
      "2          Houston Rockets            0                0.000093\n"
     ]
    }
   ],
   "source": [
    "results_west = pd.DataFrame()\n",
    "results_west['Team'] = teams_west\n",
    "results_west['predictions'] = predictions_west\n",
    "results_west['prediction probability'] = predictions_west_prob\n",
    "print(results_west.sort_values('prediction probability', ascending = False))"
   ]
  },
  {
   "cell_type": "raw",
   "id": "b9dd3775",
   "metadata": {},
   "source": [
    "Random Forest"
   ]
  },
  {
   "cell_type": "code",
   "execution_count": 38,
   "id": "1539765d",
   "metadata": {},
   "outputs": [],
   "source": [
    "train_east_df = pd.read_csv('../CSV/NBA-teams-data-east.csv')\n",
    "curr_east_df = pd.read_csv('../CSV/NBA-2022-team-data-east.csv')\n",
    "\n",
    "train_west_df = pd.read_csv('../CSV/NBA-teams-data-west.csv')\n",
    "curr_west_df = pd.read_csv('../CSV/NBA-2022-team-data-west.csv')"
   ]
  },
  {
   "cell_type": "code",
   "execution_count": 39,
   "id": "c1868819",
   "metadata": {},
   "outputs": [],
   "source": [
    "X_east = train_east_df.drop(['Team','Year','Conf','made_playoff'], axis = 1)\n",
    "y_east = train_east_df['made_playoff']\n",
    "\n",
    "X_west = train_west_df.drop(['Team','Year','Conf','made_playoff'], axis = 1)\n",
    "y_west = train_west_df['made_playoff']"
   ]
  },
  {
   "cell_type": "code",
   "execution_count": 40,
   "id": "dee8fe80",
   "metadata": {},
   "outputs": [],
   "source": [
    "X_train_east, X_test_east, y_train_east, y_test_east = train_test_split(X_east, y_east, test_size = .30,random_state=42)\n",
    "X_train_west, X_test_west, y_train_west, y_test_west = train_test_split(X_west, y_west,test_size = .30, random_state=42)"
   ]
  },
  {
   "cell_type": "code",
   "execution_count": 41,
   "id": "7a362a40",
   "metadata": {},
   "outputs": [
    {
     "data": {
      "text/plain": [
       "RandomForestClassifier(oob_score=True)"
      ]
     },
     "execution_count": 41,
     "metadata": {},
     "output_type": "execute_result"
    }
   ],
   "source": [
    "random_forest_east = RandomForestClassifier(oob_score = True)\n",
    "random_forest_east.fit(X_train_east,y_train_east)\n",
    "\n",
    "random_forest_west = RandomForestClassifier(oob_score = True)\n",
    "random_forest_west.fit(X_train_west,y_train_west)"
   ]
  },
  {
   "cell_type": "code",
   "execution_count": 42,
   "id": "fbd617db",
   "metadata": {
    "scrolled": true
   },
   "outputs": [
    {
     "name": "stdout",
     "output_type": "stream",
     "text": [
      "random_forest East\n",
      "Training Data Score: 1.0\n",
      "Testing Data Score: 0.9122807017543859\n",
      "random_forest West\n",
      "Training Data Score: 1.0\n",
      "Testing Data Score: 0.9176470588235294\n"
     ]
    }
   ],
   "source": [
    "print(\"random_forest East\")\n",
    "print(f\"Training Data Score: {random_forest_east.score(X_train_east,y_train_east)}\")\n",
    "print(f\"Testing Data Score: {random_forest_east.score(X_test_east, y_test_east)}\")\n",
    "\n",
    "print(\"random_forest West\")\n",
    "print(f\"Training Data Score: {random_forest_west.score(X_train_west, y_train_west)}\")\n",
    "print(f\"Testing Data Score: {random_forest_west.score(X_test_west, y_test_west)}\")"
   ]
  },
  {
   "cell_type": "code",
   "execution_count": 43,
   "id": "1f0451f9",
   "metadata": {},
   "outputs": [],
   "source": [
    "# Number of trees in random forest\n",
    "n_estimators = [int(x) for x in np.linspace(start = 200, stop = 2000, num = 10)]\n",
    "# Number of features to consider at every split\n",
    "max_features = ['auto', 'sqrt']\n",
    "# Maximum number of levels in tree\n",
    "max_depth = [int(x) for x in np.linspace(10, 110, num = 11)]\n",
    "max_depth.append(None)\n",
    "# Minimum number of samples required to split a node\n",
    "min_samples_split = [2, 5, 10]\n",
    "# Minimum number of samples required at each leaf node\n",
    "min_samples_leaf = [1, 2, 4]\n",
    "# Create the random grid\n",
    "random_grid = {'n_estimators': n_estimators,\n",
    "               'max_features': max_features,\n",
    "               'max_depth': max_depth,\n",
    "               'min_samples_split': min_samples_split,\n",
    "               'min_samples_leaf': min_samples_leaf}"
   ]
  },
  {
   "cell_type": "code",
   "execution_count": 44,
   "id": "041407de",
   "metadata": {},
   "outputs": [],
   "source": [
    "RandomForest = RandomForestClassifier()\n",
    "#Create a randomSearchCV to find better parameters\n",
    "RF_random_search_east = RandomizedSearchCV(estimator = RandomForest, param_distributions = random_grid,n_iter = 20, \n",
    "                                        cv = 3, verbose=2, random_state=42, n_jobs = -1)\n",
    "RF_random_search_west = RandomizedSearchCV(estimator = RandomForest, param_distributions = random_grid,n_iter = 20, \n",
    "                                           cv = 3, verbose=2, random_state=42, n_jobs = -1)"
   ]
  },
  {
   "cell_type": "code",
   "execution_count": 45,
   "id": "2a4f9053",
   "metadata": {},
   "outputs": [
    {
     "name": "stdout",
     "output_type": "stream",
     "text": [
      "Fitting 3 folds for each of 20 candidates, totalling 60 fits\n",
      "Fitting 3 folds for each of 20 candidates, totalling 60 fits\n"
     ]
    },
    {
     "data": {
      "text/plain": [
       "RandomizedSearchCV(cv=3, estimator=RandomForestClassifier(), n_iter=20,\n",
       "                   n_jobs=-1,\n",
       "                   param_distributions={'max_depth': [10, 20, 30, 40, 50, 60,\n",
       "                                                      70, 80, 90, 100, 110,\n",
       "                                                      None],\n",
       "                                        'max_features': ['auto', 'sqrt'],\n",
       "                                        'min_samples_leaf': [1, 2, 4],\n",
       "                                        'min_samples_split': [2, 5, 10],\n",
       "                                        'n_estimators': [200, 400, 600, 800,\n",
       "                                                         1000, 1200, 1400, 1600,\n",
       "                                                         1800, 2000]},\n",
       "                   random_state=42, verbose=2)"
      ]
     },
     "execution_count": 45,
     "metadata": {},
     "output_type": "execute_result"
    }
   ],
   "source": [
    "RF_random_search_east.fit(X_train_east,y_train_east)\n",
    "RF_random_search_west.fit(X_train_west,y_train_west)"
   ]
  },
  {
   "cell_type": "code",
   "execution_count": 46,
   "id": "35c5288d",
   "metadata": {},
   "outputs": [
    {
     "name": "stdout",
     "output_type": "stream",
     "text": [
      "RFrandomSearchCV East\n",
      "Training Data Score: 0.964735516372796\n",
      "Testing Data Score: 0.9064327485380117\n",
      "RFrandomSearchCV West\n",
      "Training Data Score: 0.9949494949494949\n",
      "Testing Data Score: 0.9117647058823529\n"
     ]
    }
   ],
   "source": [
    "print(\"RFrandomSearchCV East\")\n",
    "print(f\"Training Data Score: {RF_random_search_east.score(X_train_east,y_train_east)}\")\n",
    "print(f\"Testing Data Score: {RF_random_search_east.score(X_test_east, y_test_east)}\")\n",
    "print(\"RFrandomSearchCV West\")\n",
    "print(f\"Training Data Score: {RF_random_search_west.score(X_train_west,y_train_west)}\")\n",
    "print(f\"Testing Data Score: {RF_random_search_west.score(X_test_west, y_test_west)}\")"
   ]
  },
  {
   "cell_type": "code",
   "execution_count": 47,
   "id": "2da26d2c",
   "metadata": {},
   "outputs": [],
   "source": [
    "teams_east = curr_east_df['Team']\n",
    "teams_west = curr_west_df['Team']\n",
    "curr_east_df = curr_east_df.drop(['Team','Year','Conf','made_playoff'], axis = 1)\n",
    "curr_west_df = curr_west_df.drop(['Team','Year','Conf','made_playoff'], axis = 1)"
   ]
  },
  {
   "cell_type": "code",
   "execution_count": 48,
   "id": "17f2fcf1",
   "metadata": {},
   "outputs": [],
   "source": [
    "predictions_east = RF_random_search_east.predict(curr_east_df)\n",
    "predictions_east_prob = RF_random_search_east.predict_proba(curr_east_df)[:,1]\n",
    "predictions_west = RF_random_search_west.predict(curr_west_df)\n",
    "predictions_west_prob = RF_random_search_west.predict_proba(curr_west_df)[:,1]"
   ]
  },
  {
   "cell_type": "code",
   "execution_count": 49,
   "id": "f0d1ea79",
   "metadata": {},
   "outputs": [
    {
     "name": "stdout",
     "output_type": "stream",
     "text": [
      "                   Team  predictions  prediction probability\n",
      "3    Washington Wizards            1                0.938047\n",
      "5    Philadelphia 76ers            1                0.937756\n",
      "11        Brooklyn Nets            1                0.933249\n",
      "13      Milwaukee Bucks            1                0.917532\n",
      "8        Boston Celtics            1                0.910696\n",
      "9            Miami Heat            1                0.905168\n",
      "12        Atlanta Hawks            1                0.881185\n",
      "14    Charlotte Hornets            1                0.856454\n",
      "0         Chicago Bulls            1                0.836135\n",
      "6       New York Knicks            1                0.738234\n",
      "2   Cleveland Cavaliers            1                0.541523\n",
      "4       Toronto Raptors            0                0.460168\n",
      "7        Indiana Pacers            0                0.344210\n",
      "1         Orlando Magic            0                0.073333\n",
      "10      Detroit Pistons            0                0.044813\n"
     ]
    }
   ],
   "source": [
    "results_east = pd.DataFrame()\n",
    "results_east['Team'] = teams_east\n",
    "results_east['predictions'] = predictions_east\n",
    "results_east['prediction probability'] = predictions_east_prob\n",
    "print(results_east.sort_values('prediction probability', ascending = False))"
   ]
  },
  {
   "cell_type": "code",
   "execution_count": 50,
   "id": "50b8d557",
   "metadata": {
    "scrolled": true
   },
   "outputs": [
    {
     "name": "stdout",
     "output_type": "stream",
     "text": [
      "                      Team  predictions  prediction probability\n",
      "5             Phoenix Suns            1                0.975133\n",
      "1                Utah Jazz            1                0.964067\n",
      "14   Golden State Warriors            1                0.953031\n",
      "6         Dallas Mavericks            1                0.789850\n",
      "7     Los Angeles Clippers            1                0.775600\n",
      "8        Memphis Grizzlies            1                0.709744\n",
      "13  Portland Trail Blazers            1                0.673978\n",
      "12      Los Angeles Lakers            1                0.661817\n",
      "4           Denver Nuggets            1                0.596402\n",
      "10  Minnesota Timberwolves            0                0.427735\n",
      "9        San Antonio Spurs            0                0.411475\n",
      "0         Sacramento Kings            0                0.138062\n",
      "2          Houston Rockets            0                0.122952\n",
      "11   Oklahoma City Thunder            0                0.100506\n",
      "3     New Orleans Pelicans            0                0.028767\n"
     ]
    }
   ],
   "source": [
    "results_west = pd.DataFrame()\n",
    "results_west['Team'] = teams_west\n",
    "results_west['predictions'] = predictions_west\n",
    "results_west['prediction probability'] = predictions_west_prob\n",
    "print(results_west.sort_values('prediction probability', ascending = False))"
   ]
  },
  {
   "cell_type": "code",
   "execution_count": null,
   "id": "7c5a2f65",
   "metadata": {},
   "outputs": [],
   "source": []
  }
 ],
 "metadata": {
  "kernelspec": {
   "display_name": "Python 3",
   "language": "python",
   "name": "python3"
  },
  "language_info": {
   "codemirror_mode": {
    "name": "ipython",
    "version": 3
   },
   "file_extension": ".py",
   "mimetype": "text/x-python",
   "name": "python",
   "nbconvert_exporter": "python",
   "pygments_lexer": "ipython3",
   "version": "3.8.8"
  }
 },
 "nbformat": 4,
 "nbformat_minor": 5
}
