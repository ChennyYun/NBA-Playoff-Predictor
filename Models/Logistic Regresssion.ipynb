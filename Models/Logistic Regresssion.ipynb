{
 "cells": [
  {
   "cell_type": "code",
   "execution_count": 1,
   "id": "36999749",
   "metadata": {},
   "outputs": [],
   "source": [
    "import numpy as np\n",
    "import pandas as pd\n",
    "from sklearn.linear_model import LogisticRegression, LogisticRegressionCV\n",
    "from sklearn.model_selection import train_test_split\n",
    "from sklearn.preprocessing import StandardScaler"
   ]
  },
  {
   "cell_type": "code",
   "execution_count": 2,
   "id": "5e9128c4",
   "metadata": {},
   "outputs": [],
   "source": [
    "#training set and prediction set(2021-2022 season)\n",
    "train_df = pd.read_csv('../CSV/NBA-season-data-processed.csv')\n",
    "curr_df = pd.read_csv('../CSV/NBA-2022-team-data.csv')\n",
    "\n",
    "train_east_df = pd.read_csv('../CSV/NBA-teams-data-east.csv')\n",
    "curr_east_df = pd.read_csv('../CSV/NBA-2022-team-data-east.csv')\n",
    "\n",
    "train_west_df = pd.read_csv('../CSV/NBA-teams-data-west.csv')\n",
    "curr_west_df = pd.read_csv('../CSV/NBA-2022-team-data-west.csv')"
   ]
  },
  {
   "cell_type": "raw",
   "id": "003818ee",
   "metadata": {},
   "source": [
    "LogReg without splitting by conference"
   ]
  },
  {
   "cell_type": "code",
   "execution_count": 3,
   "id": "8b4ca146",
   "metadata": {},
   "outputs": [],
   "source": [
    "X = train_df.drop(['Team','Year','Conf','made_playoff'], axis = 1)\n",
    "y = train_df['made_playoff']"
   ]
  },
  {
   "cell_type": "code",
   "execution_count": 4,
   "id": "9c5bdb3a",
   "metadata": {},
   "outputs": [],
   "source": [
    "X_train, X_test, y_train, y_test = train_test_split(X,y, test_size = .30, random_state = 42)"
   ]
  },
  {
   "cell_type": "code",
   "execution_count": 5,
   "id": "403aff37",
   "metadata": {},
   "outputs": [
    {
     "data": {
      "text/plain": [
       "LogisticRegression()"
      ]
     },
     "execution_count": 5,
     "metadata": {},
     "output_type": "execute_result"
    }
   ],
   "source": [
    "logReg = LogisticRegression()\n",
    "logReg.fit(X_train,y_train)"
   ]
  },
  {
   "cell_type": "code",
   "execution_count": 6,
   "id": "45285103",
   "metadata": {},
   "outputs": [
    {
     "name": "stdout",
     "output_type": "stream",
     "text": [
      "Logistic Regression Score w/o splitting data by conference\n",
      "Training Data Score: 0.9275184275184275\n",
      "Testing Data Score: 0.9342857142857143\n"
     ]
    }
   ],
   "source": [
    "print('Logistic Regression Score w/o splitting data by conference')\n",
    "print(f\"Training Data Score: {logReg.score(X_train, y_train)}\")\n",
    "print(f\"Testing Data Score: {logReg.score(X_test, y_test)}\")"
   ]
  },
  {
   "cell_type": "code",
   "execution_count": 7,
   "id": "a92f7dbc",
   "metadata": {},
   "outputs": [],
   "source": [
    "teams = curr_df['Team']\n",
    "conf = curr_df['Conf']\n",
    "curr_df = curr_df.drop(['Team','Year','Conf','made_playoff'], axis = 1)"
   ]
  },
  {
   "cell_type": "code",
   "execution_count": 8,
   "id": "60b84c4b",
   "metadata": {},
   "outputs": [],
   "source": [
    "predictions = logReg.predict(curr_df)\n",
    "predictions_prob = logReg.predict_proba(curr_df)[:,1]"
   ]
  },
  {
   "cell_type": "code",
   "execution_count": 9,
   "id": "fd3eff04",
   "metadata": {
    "scrolled": false
   },
   "outputs": [
    {
     "name": "stdout",
     "output_type": "stream",
     "text": [
      "                      Team  predictions  prediction probability Conference\n",
      "0    Golden State Warriors            1                0.999997       West\n",
      "2             Phoenix Suns            1                0.999977       West\n",
      "1                Utah Jazz            1                0.994473       West\n",
      "22        Dallas Mavericks            1                0.972879       West\n",
      "20    Los Angeles Clippers            1                0.927364       West\n",
      "4   Portland Trail Blazers            1                0.759349       West\n",
      "24          Denver Nuggets            1                0.757737       West\n",
      "6        Memphis Grizzlies            1                0.583178       West\n",
      "7       Los Angeles Lakers            1                0.552610       West\n",
      "15  Minnesota Timberwolves            1                0.526726       West\n",
      "28   Oklahoma City Thunder            0                0.031153       West\n",
      "9         Sacramento Kings            0                0.027588       West\n",
      "16       San Antonio Spurs            0                0.001523       West\n",
      "25    New Orleans Pelicans            0                0.000550       West\n",
      "26         Houston Rockets            0                0.000071       West\n",
      "8            Brooklyn Nets            1                0.999081       East\n",
      "11              Miami Heat            1                0.993557       East\n",
      "14           Chicago Bulls            1                0.985606       East\n",
      "21      Washington Wizards            1                0.983380       East\n",
      "10         Milwaukee Bucks            1                0.953955       East\n",
      "3        Charlotte Hornets            1                0.926610       East\n",
      "12          Boston Celtics            1                0.861068       East\n",
      "17         New York Knicks            1                0.855122       East\n",
      "5            Atlanta Hawks            1                0.690617       East\n",
      "18      Philadelphia 76ers            1                0.660649       East\n",
      "23     Cleveland Cavaliers            0                0.434291       East\n",
      "19         Toronto Raptors            0                0.291428       East\n",
      "13          Indiana Pacers            0                0.058215       East\n",
      "29         Detroit Pistons            0                0.002244       East\n",
      "27           Orlando Magic            0                0.000604       East\n"
     ]
    }
   ],
   "source": [
    "results = pd.DataFrame()\n",
    "results['Team'] = teams\n",
    "results['predictions'] = predictions\n",
    "results['prediction probability'] = predictions_prob\n",
    "results['Conference'] = conf\n",
    "print(results.sort_values(['Conference','prediction probability'], ascending = False))"
   ]
  },
  {
   "cell_type": "code",
   "execution_count": 10,
   "id": "2924f54b",
   "metadata": {},
   "outputs": [],
   "source": [
    "X_east = train_east_df.drop(['Team','Year','Conf','made_playoff'], axis = 1)\n",
    "y_east = train_east_df['made_playoff']\n",
    "\n",
    "X_west = train_west_df.drop(['Team','Year','Conf','made_playoff'], axis = 1)\n",
    "y_west = train_west_df['made_playoff']"
   ]
  },
  {
   "cell_type": "code",
   "execution_count": 11,
   "id": "8dd29f0a",
   "metadata": {},
   "outputs": [],
   "source": [
    "X_train_east, X_test_east, y_train_east, y_test_east = train_test_split(X_east, y_east, test_size = .20,random_state=42)\n",
    "X_train_west, X_test_west, y_train_west, y_test_west = train_test_split(X_west, y_west,test_size = .20, random_state=42)"
   ]
  },
  {
   "cell_type": "code",
   "execution_count": 12,
   "id": "69681272",
   "metadata": {
    "scrolled": false
   },
   "outputs": [
    {
     "data": {
      "text/plain": [
       "LogisticRegression()"
      ]
     },
     "execution_count": 12,
     "metadata": {},
     "output_type": "execute_result"
    }
   ],
   "source": [
    "logReg_east = LogisticRegression()\n",
    "logReg_east.fit(X_train_east,y_train_east)\n",
    "\n",
    "logReg_west = LogisticRegression()\n",
    "logReg_west.fit(X_train_west,y_train_west)"
   ]
  },
  {
   "cell_type": "code",
   "execution_count": 13,
   "id": "d67240b1",
   "metadata": {
    "scrolled": false
   },
   "outputs": [
    {
     "name": "stdout",
     "output_type": "stream",
     "text": [
      "logReg East\n",
      "Training Data Score: 0.9427312775330396\n",
      "Testing Data Score: 0.9473684210526315\n",
      "logReg West\n",
      "Training Data Score: 0.9314159292035398\n",
      "Testing Data Score: 0.8859649122807017\n"
     ]
    }
   ],
   "source": [
    "print(\"logReg East\")\n",
    "print(f\"Training Data Score: {logReg_east.score(X_train_east, y_train_east)}\")\n",
    "print(f\"Testing Data Score: {logReg_east.score(X_test_east, y_test_east)}\")\n",
    "\n",
    "print(\"logReg West\")\n",
    "print(f\"Training Data Score: {logReg_west.score(X_train_west, y_train_west)}\")\n",
    "print(f\"Testing Data Score: {logReg_west.score(X_test_west, y_test_west)}\")"
   ]
  },
  {
   "cell_type": "code",
   "execution_count": 14,
   "id": "7947f41f",
   "metadata": {
    "scrolled": true
   },
   "outputs": [
    {
     "data": {
      "text/html": [
       "<div>\n",
       "<style scoped>\n",
       "    .dataframe tbody tr th:only-of-type {\n",
       "        vertical-align: middle;\n",
       "    }\n",
       "\n",
       "    .dataframe tbody tr th {\n",
       "        vertical-align: top;\n",
       "    }\n",
       "\n",
       "    .dataframe thead th {\n",
       "        text-align: right;\n",
       "    }\n",
       "</style>\n",
       "<table border=\"1\" class=\"dataframe\">\n",
       "  <thead>\n",
       "    <tr style=\"text-align: right;\">\n",
       "      <th></th>\n",
       "      <th>Feature</th>\n",
       "      <th>Correlation</th>\n",
       "    </tr>\n",
       "  </thead>\n",
       "  <tbody>\n",
       "    <tr>\n",
       "      <th>20</th>\n",
       "      <td>top_PTS</td>\n",
       "      <td>4.899748</td>\n",
       "    </tr>\n",
       "    <tr>\n",
       "      <th>4</th>\n",
       "      <td>3P%</td>\n",
       "      <td>0.542085</td>\n",
       "    </tr>\n",
       "    <tr>\n",
       "      <th>13</th>\n",
       "      <td>AST</td>\n",
       "      <td>0.373146</td>\n",
       "    </tr>\n",
       "    <tr>\n",
       "      <th>11</th>\n",
       "      <td>ORB</td>\n",
       "      <td>0.355433</td>\n",
       "    </tr>\n",
       "    <tr>\n",
       "      <th>0</th>\n",
       "      <td>FGA</td>\n",
       "      <td>0.354640</td>\n",
       "    </tr>\n",
       "    <tr>\n",
       "      <th>15</th>\n",
       "      <td>BLK</td>\n",
       "      <td>0.271351</td>\n",
       "    </tr>\n",
       "    <tr>\n",
       "      <th>25</th>\n",
       "      <td>top_5_stats_sum</td>\n",
       "      <td>0.240686</td>\n",
       "    </tr>\n",
       "    <tr>\n",
       "      <th>12</th>\n",
       "      <td>DRB</td>\n",
       "      <td>0.220794</td>\n",
       "    </tr>\n",
       "    <tr>\n",
       "      <th>8</th>\n",
       "      <td>FT</td>\n",
       "      <td>0.220715</td>\n",
       "    </tr>\n",
       "    <tr>\n",
       "      <th>9</th>\n",
       "      <td>FTA</td>\n",
       "      <td>0.220454</td>\n",
       "    </tr>\n",
       "    <tr>\n",
       "      <th>21</th>\n",
       "      <td>top_5_PTS</td>\n",
       "      <td>0.073445</td>\n",
       "    </tr>\n",
       "    <tr>\n",
       "      <th>14</th>\n",
       "      <td>STL</td>\n",
       "      <td>0.061058</td>\n",
       "    </tr>\n",
       "    <tr>\n",
       "      <th>18</th>\n",
       "      <td>PTS</td>\n",
       "      <td>0.055991</td>\n",
       "    </tr>\n",
       "    <tr>\n",
       "      <th>16</th>\n",
       "      <td>TOV</td>\n",
       "      <td>-0.003697</td>\n",
       "    </tr>\n",
       "    <tr>\n",
       "      <th>6</th>\n",
       "      <td>2PA</td>\n",
       "      <td>-0.064979</td>\n",
       "    </tr>\n",
       "    <tr>\n",
       "      <th>22</th>\n",
       "      <td>top_5_AST</td>\n",
       "      <td>-0.069084</td>\n",
       "    </tr>\n",
       "    <tr>\n",
       "      <th>26</th>\n",
       "      <td>Team</td>\n",
       "      <td>-0.069084</td>\n",
       "    </tr>\n",
       "    <tr>\n",
       "      <th>2</th>\n",
       "      <td>3P</td>\n",
       "      <td>-0.105033</td>\n",
       "    </tr>\n",
       "    <tr>\n",
       "      <th>23</th>\n",
       "      <td>top_5_DRB</td>\n",
       "      <td>-0.122130</td>\n",
       "    </tr>\n",
       "    <tr>\n",
       "      <th>24</th>\n",
       "      <td>top_5_ORB</td>\n",
       "      <td>-0.123718</td>\n",
       "    </tr>\n",
       "    <tr>\n",
       "      <th>19</th>\n",
       "      <td>W%</td>\n",
       "      <td>-0.243019</td>\n",
       "    </tr>\n",
       "    <tr>\n",
       "      <th>17</th>\n",
       "      <td>PF</td>\n",
       "      <td>-0.244825</td>\n",
       "    </tr>\n",
       "    <tr>\n",
       "      <th>1</th>\n",
       "      <td>FG%</td>\n",
       "      <td>-0.257638</td>\n",
       "    </tr>\n",
       "    <tr>\n",
       "      <th>10</th>\n",
       "      <td>FT%</td>\n",
       "      <td>-0.263717</td>\n",
       "    </tr>\n",
       "    <tr>\n",
       "      <th>5</th>\n",
       "      <td>2P</td>\n",
       "      <td>-0.290657</td>\n",
       "    </tr>\n",
       "    <tr>\n",
       "      <th>7</th>\n",
       "      <td>2P%</td>\n",
       "      <td>-0.354282</td>\n",
       "    </tr>\n",
       "    <tr>\n",
       "      <th>3</th>\n",
       "      <td>3PA</td>\n",
       "      <td>-0.560558</td>\n",
       "    </tr>\n",
       "    <tr>\n",
       "      <th>27</th>\n",
       "      <td>Year</td>\n",
       "      <td>NaN</td>\n",
       "    </tr>\n",
       "    <tr>\n",
       "      <th>28</th>\n",
       "      <td>Conf</td>\n",
       "      <td>NaN</td>\n",
       "    </tr>\n",
       "    <tr>\n",
       "      <th>29</th>\n",
       "      <td>made_playoff</td>\n",
       "      <td>NaN</td>\n",
       "    </tr>\n",
       "  </tbody>\n",
       "</table>\n",
       "</div>"
      ],
      "text/plain": [
       "            Feature  Correlation\n",
       "20          top_PTS     4.899748\n",
       "4               3P%     0.542085\n",
       "13              AST     0.373146\n",
       "11              ORB     0.355433\n",
       "0               FGA     0.354640\n",
       "15              BLK     0.271351\n",
       "25  top_5_stats_sum     0.240686\n",
       "12              DRB     0.220794\n",
       "8                FT     0.220715\n",
       "9               FTA     0.220454\n",
       "21        top_5_PTS     0.073445\n",
       "14              STL     0.061058\n",
       "18              PTS     0.055991\n",
       "16              TOV    -0.003697\n",
       "6               2PA    -0.064979\n",
       "22        top_5_AST    -0.069084\n",
       "26             Team    -0.069084\n",
       "2                3P    -0.105033\n",
       "23        top_5_DRB    -0.122130\n",
       "24        top_5_ORB    -0.123718\n",
       "19               W%    -0.243019\n",
       "17               PF    -0.244825\n",
       "1               FG%    -0.257638\n",
       "10              FT%    -0.263717\n",
       "5                2P    -0.290657\n",
       "7               2P%    -0.354282\n",
       "3               3PA    -0.560558\n",
       "27             Year          NaN\n",
       "28             Conf          NaN\n",
       "29     made_playoff          NaN"
      ]
     },
     "execution_count": 14,
     "metadata": {},
     "output_type": "execute_result"
    }
   ],
   "source": [
    "coeff_df = pd.DataFrame(train_east_df.columns.delete(0))\n",
    "coeff_df.columns = ['Feature']\n",
    "coeff_df[\"Correlation\"] = pd.Series(logReg_east.coef_[0])\n",
    "\n",
    "coeff_df.sort_values(by='Correlation', ascending=False)"
   ]
  },
  {
   "cell_type": "code",
   "execution_count": 15,
   "id": "a0622641",
   "metadata": {
    "scrolled": true
   },
   "outputs": [
    {
     "data": {
      "text/html": [
       "<div>\n",
       "<style scoped>\n",
       "    .dataframe tbody tr th:only-of-type {\n",
       "        vertical-align: middle;\n",
       "    }\n",
       "\n",
       "    .dataframe tbody tr th {\n",
       "        vertical-align: top;\n",
       "    }\n",
       "\n",
       "    .dataframe thead th {\n",
       "        text-align: right;\n",
       "    }\n",
       "</style>\n",
       "<table border=\"1\" class=\"dataframe\">\n",
       "  <thead>\n",
       "    <tr style=\"text-align: right;\">\n",
       "      <th></th>\n",
       "      <th>Feature</th>\n",
       "      <th>Correlation</th>\n",
       "    </tr>\n",
       "  </thead>\n",
       "  <tbody>\n",
       "    <tr>\n",
       "      <th>20</th>\n",
       "      <td>top_PTS</td>\n",
       "      <td>3.969952</td>\n",
       "    </tr>\n",
       "    <tr>\n",
       "      <th>15</th>\n",
       "      <td>BLK</td>\n",
       "      <td>0.483335</td>\n",
       "    </tr>\n",
       "    <tr>\n",
       "      <th>19</th>\n",
       "      <td>W%</td>\n",
       "      <td>0.400215</td>\n",
       "    </tr>\n",
       "    <tr>\n",
       "      <th>21</th>\n",
       "      <td>top_5_PTS</td>\n",
       "      <td>0.394403</td>\n",
       "    </tr>\n",
       "    <tr>\n",
       "      <th>25</th>\n",
       "      <td>top_5_stats_sum</td>\n",
       "      <td>0.376841</td>\n",
       "    </tr>\n",
       "    <tr>\n",
       "      <th>13</th>\n",
       "      <td>AST</td>\n",
       "      <td>0.333184</td>\n",
       "    </tr>\n",
       "    <tr>\n",
       "      <th>18</th>\n",
       "      <td>PTS</td>\n",
       "      <td>0.315922</td>\n",
       "    </tr>\n",
       "    <tr>\n",
       "      <th>14</th>\n",
       "      <td>STL</td>\n",
       "      <td>0.292240</td>\n",
       "    </tr>\n",
       "    <tr>\n",
       "      <th>10</th>\n",
       "      <td>FT%</td>\n",
       "      <td>0.267850</td>\n",
       "    </tr>\n",
       "    <tr>\n",
       "      <th>16</th>\n",
       "      <td>TOV</td>\n",
       "      <td>0.220349</td>\n",
       "    </tr>\n",
       "    <tr>\n",
       "      <th>8</th>\n",
       "      <td>FT</td>\n",
       "      <td>0.211248</td>\n",
       "    </tr>\n",
       "    <tr>\n",
       "      <th>3</th>\n",
       "      <td>3PA</td>\n",
       "      <td>0.209595</td>\n",
       "    </tr>\n",
       "    <tr>\n",
       "      <th>6</th>\n",
       "      <td>2PA</td>\n",
       "      <td>0.164825</td>\n",
       "    </tr>\n",
       "    <tr>\n",
       "      <th>11</th>\n",
       "      <td>ORB</td>\n",
       "      <td>0.131008</td>\n",
       "    </tr>\n",
       "    <tr>\n",
       "      <th>7</th>\n",
       "      <td>2P%</td>\n",
       "      <td>0.006070</td>\n",
       "    </tr>\n",
       "    <tr>\n",
       "      <th>23</th>\n",
       "      <td>top_5_DRB</td>\n",
       "      <td>-0.031314</td>\n",
       "    </tr>\n",
       "    <tr>\n",
       "      <th>24</th>\n",
       "      <td>top_5_ORB</td>\n",
       "      <td>-0.031959</td>\n",
       "    </tr>\n",
       "    <tr>\n",
       "      <th>0</th>\n",
       "      <td>FGA</td>\n",
       "      <td>-0.160177</td>\n",
       "    </tr>\n",
       "    <tr>\n",
       "      <th>12</th>\n",
       "      <td>DRB</td>\n",
       "      <td>-0.195356</td>\n",
       "    </tr>\n",
       "    <tr>\n",
       "      <th>22</th>\n",
       "      <td>top_5_AST</td>\n",
       "      <td>-0.197383</td>\n",
       "    </tr>\n",
       "    <tr>\n",
       "      <th>26</th>\n",
       "      <td>Team</td>\n",
       "      <td>-0.197383</td>\n",
       "    </tr>\n",
       "    <tr>\n",
       "      <th>4</th>\n",
       "      <td>3P%</td>\n",
       "      <td>-0.236179</td>\n",
       "    </tr>\n",
       "    <tr>\n",
       "      <th>5</th>\n",
       "      <td>2P</td>\n",
       "      <td>-0.272787</td>\n",
       "    </tr>\n",
       "    <tr>\n",
       "      <th>9</th>\n",
       "      <td>FTA</td>\n",
       "      <td>-0.318281</td>\n",
       "    </tr>\n",
       "    <tr>\n",
       "      <th>2</th>\n",
       "      <td>3P</td>\n",
       "      <td>-0.341066</td>\n",
       "    </tr>\n",
       "    <tr>\n",
       "      <th>1</th>\n",
       "      <td>FG%</td>\n",
       "      <td>-0.606275</td>\n",
       "    </tr>\n",
       "    <tr>\n",
       "      <th>17</th>\n",
       "      <td>PF</td>\n",
       "      <td>-0.642935</td>\n",
       "    </tr>\n",
       "    <tr>\n",
       "      <th>27</th>\n",
       "      <td>Year</td>\n",
       "      <td>NaN</td>\n",
       "    </tr>\n",
       "    <tr>\n",
       "      <th>28</th>\n",
       "      <td>Conf</td>\n",
       "      <td>NaN</td>\n",
       "    </tr>\n",
       "    <tr>\n",
       "      <th>29</th>\n",
       "      <td>made_playoff</td>\n",
       "      <td>NaN</td>\n",
       "    </tr>\n",
       "  </tbody>\n",
       "</table>\n",
       "</div>"
      ],
      "text/plain": [
       "            Feature  Correlation\n",
       "20          top_PTS     3.969952\n",
       "15              BLK     0.483335\n",
       "19               W%     0.400215\n",
       "21        top_5_PTS     0.394403\n",
       "25  top_5_stats_sum     0.376841\n",
       "13              AST     0.333184\n",
       "18              PTS     0.315922\n",
       "14              STL     0.292240\n",
       "10              FT%     0.267850\n",
       "16              TOV     0.220349\n",
       "8                FT     0.211248\n",
       "3               3PA     0.209595\n",
       "6               2PA     0.164825\n",
       "11              ORB     0.131008\n",
       "7               2P%     0.006070\n",
       "23        top_5_DRB    -0.031314\n",
       "24        top_5_ORB    -0.031959\n",
       "0               FGA    -0.160177\n",
       "12              DRB    -0.195356\n",
       "22        top_5_AST    -0.197383\n",
       "26             Team    -0.197383\n",
       "4               3P%    -0.236179\n",
       "5                2P    -0.272787\n",
       "9               FTA    -0.318281\n",
       "2                3P    -0.341066\n",
       "1               FG%    -0.606275\n",
       "17               PF    -0.642935\n",
       "27             Year          NaN\n",
       "28             Conf          NaN\n",
       "29     made_playoff          NaN"
      ]
     },
     "execution_count": 15,
     "metadata": {},
     "output_type": "execute_result"
    }
   ],
   "source": [
    "coeff_df = pd.DataFrame(train_west_df.columns.delete(0))\n",
    "coeff_df.columns = ['Feature']\n",
    "coeff_df[\"Correlation\"] = pd.Series(logReg_west.coef_[0])\n",
    "\n",
    "coeff_df.sort_values(by='Correlation', ascending=False)"
   ]
  },
  {
   "cell_type": "code",
   "execution_count": 16,
   "id": "2002ca1d",
   "metadata": {
    "scrolled": true
   },
   "outputs": [
    {
     "name": "stdout",
     "output_type": "stream",
     "text": [
      "<class 'pandas.core.frame.DataFrame'>\n",
      "RangeIndex: 15 entries, 0 to 14\n",
      "Data columns (total 31 columns):\n",
      " #   Column           Non-Null Count  Dtype  \n",
      "---  ------           --------------  -----  \n",
      " 0   FG               15 non-null     float64\n",
      " 1   FGA              15 non-null     float64\n",
      " 2   FG%              15 non-null     float64\n",
      " 3   3P               15 non-null     float64\n",
      " 4   3PA              15 non-null     float64\n",
      " 5   3P%              15 non-null     float64\n",
      " 6   2P               15 non-null     float64\n",
      " 7   2PA              15 non-null     float64\n",
      " 8   2P%              15 non-null     float64\n",
      " 9   FT               15 non-null     float64\n",
      " 10  FTA              15 non-null     float64\n",
      " 11  FT%              15 non-null     float64\n",
      " 12  ORB              15 non-null     float64\n",
      " 13  DRB              15 non-null     float64\n",
      " 14  AST              15 non-null     float64\n",
      " 15  STL              15 non-null     float64\n",
      " 16  BLK              15 non-null     float64\n",
      " 17  TOV              15 non-null     float64\n",
      " 18  PF               15 non-null     float64\n",
      " 19  PTS              15 non-null     float64\n",
      " 20  W%               15 non-null     float64\n",
      " 21  top_PTS          15 non-null     float64\n",
      " 22  top_5_PTS        15 non-null     float64\n",
      " 23  top_5_AST        15 non-null     float64\n",
      " 24  top_5_DRB        15 non-null     float64\n",
      " 25  top_5_ORB        15 non-null     float64\n",
      " 26  top_5_stats_sum  15 non-null     float64\n",
      " 27  Team             15 non-null     object \n",
      " 28  Year             15 non-null     int64  \n",
      " 29  Conf             15 non-null     object \n",
      " 30  made_playoff     15 non-null     int64  \n",
      "dtypes: float64(27), int64(2), object(2)\n",
      "memory usage: 3.8+ KB\n"
     ]
    }
   ],
   "source": [
    "curr_east_df.info()"
   ]
  },
  {
   "cell_type": "code",
   "execution_count": 17,
   "id": "c69eb7a4",
   "metadata": {
    "scrolled": true
   },
   "outputs": [],
   "source": [
    "teams_east = curr_east_df['Team']\n",
    "teams_west = curr_west_df['Team']\n",
    "curr_east_df = curr_east_df.drop(['Team','Year','Conf','made_playoff'], axis = 1)\n",
    "curr_west_df = curr_west_df.drop(['Team','Year','Conf','made_playoff'], axis = 1)"
   ]
  },
  {
   "cell_type": "code",
   "execution_count": 18,
   "id": "f188920c",
   "metadata": {},
   "outputs": [],
   "source": [
    "predictions_east = logReg_east.predict(curr_east_df)\n",
    "predictions_east_prob = logReg_east.predict_proba(curr_east_df)[:,1]\n",
    "predictions_west = logReg_west.predict(curr_west_df)\n",
    "predictions_west_prob = logReg_west.predict_proba(curr_west_df)[:,1]"
   ]
  },
  {
   "cell_type": "code",
   "execution_count": 19,
   "id": "a34ef975",
   "metadata": {},
   "outputs": [
    {
     "name": "stdout",
     "output_type": "stream",
     "text": [
      "                   Team  predictions  prediction probability\n",
      "11        Brooklyn Nets            1                0.998408\n",
      "9            Miami Heat            1                0.994422\n",
      "3    Washington Wizards            1                0.990722\n",
      "0         Chicago Bulls            1                0.982349\n",
      "8        Boston Celtics            1                0.943589\n",
      "13      Milwaukee Bucks            1                0.929806\n",
      "6       New York Knicks            1                0.900448\n",
      "14    Charlotte Hornets            1                0.866302\n",
      "5    Philadelphia 76ers            1                0.792615\n",
      "12        Atlanta Hawks            1                0.773762\n",
      "2   Cleveland Cavaliers            1                0.593244\n",
      "4       Toronto Raptors            1                0.574954\n",
      "7        Indiana Pacers            0                0.149425\n",
      "10      Detroit Pistons            0                0.004082\n",
      "1         Orlando Magic            0                0.000782\n"
     ]
    }
   ],
   "source": [
    "results_east = pd.DataFrame()\n",
    "results_east['Team'] = teams_east\n",
    "results_east['predictions'] = predictions_east\n",
    "results_east['prediction probability'] = predictions_east_prob\n",
    "print(results_east.sort_values('prediction probability', ascending = False))"
   ]
  },
  {
   "cell_type": "code",
   "execution_count": 20,
   "id": "6f8a27d0",
   "metadata": {},
   "outputs": [
    {
     "name": "stdout",
     "output_type": "stream",
     "text": [
      "                      Team  predictions  prediction probability\n",
      "14   Golden State Warriors            1                0.999986\n",
      "5             Phoenix Suns            1                0.999934\n",
      "1                Utah Jazz            1                0.988774\n",
      "6         Dallas Mavericks            1                0.953178\n",
      "7     Los Angeles Clippers            1                0.827064\n",
      "13  Portland Trail Blazers            1                0.755313\n",
      "4           Denver Nuggets            1                0.694647\n",
      "8        Memphis Grizzlies            1                0.655409\n",
      "10  Minnesota Timberwolves            1                0.552457\n",
      "12      Los Angeles Lakers            0                0.427328\n",
      "0         Sacramento Kings            0                0.029421\n",
      "11   Oklahoma City Thunder            0                0.008255\n",
      "9        San Antonio Spurs            0                0.004187\n",
      "3     New Orleans Pelicans            0                0.000316\n",
      "2          Houston Rockets            0                0.000031\n"
     ]
    }
   ],
   "source": [
    "results_west = pd.DataFrame()\n",
    "results_west['Team'] = teams_west\n",
    "results_west['predictions'] = predictions_west\n",
    "results_west['prediction probability'] = predictions_west_prob\n",
    "print(results_west.sort_values('prediction probability', ascending = False))"
   ]
  },
  {
   "cell_type": "code",
   "execution_count": 21,
   "id": "93bdc608",
   "metadata": {},
   "outputs": [],
   "source": [
    "scaler = StandardScaler()\n",
    "curr_east_df = pd.DataFrame(scaler.fit_transform(curr_east_df), columns = curr_east_df.columns)\n",
    "curr_west_df = pd.DataFrame(scaler.fit_transform(curr_west_df), columns = curr_west_df.columns)"
   ]
  },
  {
   "cell_type": "code",
   "execution_count": 22,
   "id": "582a2ad7",
   "metadata": {},
   "outputs": [],
   "source": [
    "predictions_east = logReg_east.predict(curr_east_df)\n",
    "predictions_east_prob = logReg_east.predict_proba(curr_east_df)[:,1]\n",
    "predictions_west = logReg_west.predict(curr_west_df)\n",
    "predictions_west_prob = logReg_west.predict_proba(curr_west_df)[:,1]"
   ]
  },
  {
   "cell_type": "code",
   "execution_count": 23,
   "id": "947707c7",
   "metadata": {},
   "outputs": [
    {
     "name": "stdout",
     "output_type": "stream",
     "text": [
      "                   Team  predictions  prediction probability\n",
      "11        Brooklyn Nets            1                0.999683\n",
      "9            Miami Heat            1                0.997065\n",
      "3    Washington Wizards            1                0.994121\n",
      "0         Chicago Bulls            1                0.991051\n",
      "13      Milwaukee Bucks            1                0.942429\n",
      "8        Boston Celtics            1                0.936757\n",
      "6       New York Knicks            1                0.907048\n",
      "14    Charlotte Hornets            1                0.893661\n",
      "5    Philadelphia 76ers            1                0.819328\n",
      "12        Atlanta Hawks            1                0.774137\n",
      "2   Cleveland Cavaliers            0                0.455174\n",
      "4       Toronto Raptors            0                0.427932\n",
      "7        Indiana Pacers            0                0.063009\n",
      "10      Detroit Pistons            0                0.000404\n",
      "1         Orlando Magic            0                0.000066\n"
     ]
    }
   ],
   "source": [
    "results_east = pd.DataFrame()\n",
    "results_east['Team'] = teams_east\n",
    "results_east['predictions'] = predictions_east\n",
    "results_east['prediction probability'] = predictions_east_prob\n",
    "print(results_east.sort_values('prediction probability', ascending = False))"
   ]
  },
  {
   "cell_type": "code",
   "execution_count": 24,
   "id": "bc1dff8f",
   "metadata": {
    "scrolled": true
   },
   "outputs": [
    {
     "name": "stdout",
     "output_type": "stream",
     "text": [
      "                      Team  predictions  prediction probability\n",
      "14   Golden State Warriors            1                0.999944\n",
      "5             Phoenix Suns            1                0.999798\n",
      "1                Utah Jazz            1                0.984719\n",
      "6         Dallas Mavericks            1                0.942490\n",
      "7     Los Angeles Clippers            1                0.824967\n",
      "13  Portland Trail Blazers            1                0.747283\n",
      "4           Denver Nuggets            1                0.729345\n",
      "8        Memphis Grizzlies            1                0.697896\n",
      "10  Minnesota Timberwolves            1                0.663054\n",
      "12      Los Angeles Lakers            1                0.503502\n",
      "0         Sacramento Kings            0                0.051116\n",
      "11   Oklahoma City Thunder            0                0.021237\n",
      "9        San Antonio Spurs            0                0.011289\n",
      "3     New Orleans Pelicans            0                0.001089\n",
      "2          Houston Rockets            0                0.000186\n"
     ]
    }
   ],
   "source": [
    "results_west = pd.DataFrame()\n",
    "results_west['Team'] = teams_west\n",
    "results_west['predictions'] = predictions_west\n",
    "results_west['prediction probability'] = predictions_west_prob\n",
    "print(results_west.sort_values('prediction probability', ascending = False))"
   ]
  },
  {
   "cell_type": "code",
   "execution_count": 25,
   "id": "1a337f2d",
   "metadata": {},
   "outputs": [],
   "source": [
    "results_east['Conf'] = 'East'\n",
    "results_west['Conf'] = 'West'"
   ]
  },
  {
   "cell_type": "code",
   "execution_count": 26,
   "id": "faf8b464",
   "metadata": {},
   "outputs": [],
   "source": [
    "results = pd.concat([results_east,results_west])"
   ]
  },
  {
   "cell_type": "code",
   "execution_count": 27,
   "id": "1e43aede",
   "metadata": {},
   "outputs": [],
   "source": [
    "results.to_csv('../Results/Logistic-Regression-Results.csv')"
   ]
  },
  {
   "cell_type": "code",
   "execution_count": null,
   "id": "4fbf59a6",
   "metadata": {},
   "outputs": [],
   "source": []
  }
 ],
 "metadata": {
  "kernelspec": {
   "display_name": "Python 3",
   "language": "python",
   "name": "python3"
  },
  "language_info": {
   "codemirror_mode": {
    "name": "ipython",
    "version": 3
   },
   "file_extension": ".py",
   "mimetype": "text/x-python",
   "name": "python",
   "nbconvert_exporter": "python",
   "pygments_lexer": "ipython3",
   "version": "3.8.8"
  }
 },
 "nbformat": 4,
 "nbformat_minor": 5
}
